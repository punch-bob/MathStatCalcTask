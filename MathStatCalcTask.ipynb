{
  "nbformat": 4,
  "nbformat_minor": 0,
  "metadata": {
    "colab": {
      "name": "MathStatCalcTask.ipynb",
      "provenance": [],
      "collapsed_sections": [],
      "toc_visible": true,
      "authorship_tag": "ABX9TyN/X1gvBFlOkuvDOfLbHfYG",
      "include_colab_link": true
    },
    "kernelspec": {
      "name": "python3",
      "display_name": "Python 3"
    },
    "language_info": {
      "name": "python"
    },
    "widgets": {
      "application/vnd.jupyter.widget-state+json": {
        "4be2f38fe453423cad794351b1abcee2": {
          "model_module": "jupyter-matplotlib",
          "model_name": "MPLCanvasModel",
          "model_module_version": "^0.11",
          "state": {
            "_cursor": "pointer",
            "_data_url": "data:image/png;base64,iVBORw0KGgoAAAANSUhEUgAAAbAAAAEgCAYAAADVKCZpAAAAOXRFWHRTb2Z0d2FyZQBNYXRwbG90bGliIHZlcnNpb24zLjUuMiwgaHR0cHM6Ly9tYXRwbG90bGliLm9yZy8qNh9FAAAACXBIWXMAAAsTAAALEwEAmpwYAAATsElEQVR4nO3dfaxkd13H8feHllKFFggr1nR3S5UtsAIWem1RiLuGB9smbhNBbAG1pGHjQ5UIkhTRSqqJohETTBWvAuUhbXkSsokLVZG2SujDri2FLlmyVkq3YIqARSE8tH79Y+aW6XT37uztuXPmN/N+JZOdc+bMnO/+cnc/93fme85JVSFJUmse0XcBkiSthQEmSWqSASZJapIBJklqkgEmSWqSASZJapIBJklqkgEmSWqSASZJapIBJklqkgEmSWqSASZJapIBJklqkgEmSWqSASZJapIBJklqkgEmSWqSASZJapIBJklqkgEmSWqSASZJapIBJklqkgEmSWqSASZJapIBJklqkgEmSWqSASZJapIBJklqkgEmSWqSASZJalLvAZbk7UnuSfKZw7yeJG9JciDJbUmePe0aJUmzp/cAA64Azl7l9XOALcPHTuCvplCTJGnG9R5gVXU98NVVNjkPeFcN3AA8LskPTac6SdKs6j3AJnAycNfI8sHhOknSAju27wK6lGQng8OMPPrRjz7jqU99as8VSdJ07f/KfgCe8oSnrOn9e/fu/a+q+oEua1ovLQTY3cCmkeWNw3UPUVXLwDLA0tJS7dmzZ/2rk6QZsv2K7QBce+G1a3p/kju7q2Z9tXAIcRfwS8NuxOcA91bVl/ouSpLUr95nYEmuArYDG5IcBH4feCRAVb0V2A2cCxwAvgm8sp9KJUmzpPcAq6oLjvB6Ab8+pXIkSY1o4RCiJEkPYYBJ0pxY3rvMdXde13cZU2OASdKcuPLTVwLwsme8rOdKpsMAk6Q5su2Ubew8Y2ffZUyFASZJapIBJklqkgEmSWqSASZJalLvJzJLkia3vHf5gW7Dcbf+562cftLp0y2oR87AJKkhV376Sm79z1sP+drpJ52+MC304AxMkppz+kmnr/lq8/PEGZgkqUkGmCSpSQaYJKlJBpgkqUk2cUiae6u1nrdm0VrlV+MMTNLcW631vDWL1iq/GmdgkhaCrefzxxmYJKlJBpgkqUkGmCSpSQaYJKlJBpgkqUl2IUqaummfl+W5U/PJGZikqZv2eVmeOzWfnIFJ6oXnZenhcgYmSWqSASZJapIBJklqkgEmSWqSTRySpmK0dd62dnXBGZikqRhtnbetXV1wBiZpamydV5ecgUmSmjQTAZbk7CT7kxxIcskhXt+c5ONJbklyW5Jz+6hTkjQ7eg+wJMcAlwPnAFuBC5JsHdvsd4H3VdWzgPOBv5xulZKkWdN7gAFnAgeq6o6q+g5wNXDe2DYFnDh8/ljgi1OsT5I0g2ahieNk4K6R5YPAWWPbvBH4hyS/ATwaeMF0SpO0mqO5qryt8+raLMzAJnEBcEVVbQTOBd6d5CG1J9mZZE+SPV/+8penXqS0aI7mqvK2zqtrszADuxvYNLK8cbhu1EXA2QBV9ckkxwMbgHtGN6qqZWAZYGlpqdarYEnfY2u8+jILM7CbgS1JTk1yHIMmjV1j23wBeD5AkqcBxwNOsSRpgfUeYFV1H3AxcA3wWQbdhrcnuSzJjuFmrwVeleRTwFXAhVXlDEuSFtgsHEKkqnYDu8fWXTryfB/w3GnXJUmaXb3PwCRJWouZmIFJasN427yt8eqTMzBJExtvm7c1Xn1yBibpqNg2r1nhDEyS1CQDTJLUJANMktQkA0yS1CQDTJLUJLsQJT3gSLdH8bwvzRJnYJIecKTbo3jel2aJMzBJD+J5XmqFMzBJUpMMMElSkwwwSVKTDDBJUpMMMEnAoIX+ujuv67sMaWIGmCSAB87/sk1erTDAJD1g2ynb2HnGzr7LkCZigEmSmmSASZKaZIBJkppkgEmSmuS1EKUFNnr1ea80r9Y4A5MW2OjV573SvFrjDExacF59Xq1yBiZJapIBJklqkgEmSWqSASZJapJNHNKcG22VH2frvFrmDEyac6Ot8uNsnVfLnIFJC8BWec0jZ2CSpCYZYJKkJs1EgCU5O8n+JAeSXHKYbV6aZF+S25Mc+htpSdLC6P07sCTHAJcDLwQOAjcn2VVV+0a22QK8HnhuVX0tyRP7qVaSNCs6D7AkPwk8afSzq+pdq7zlTOBAVd0xfP/VwHnAvpFtXgVcXlVfG37ePR2XLUlqTKcBluTdwI8AtwL3D1cXsFqAnQzcNbJ8EDhrbJvThp//CeAY4I1V9dEOSpZmymrnbK2V53ppXnU9A1sCtlZVdfy5xwJbgO3ARuD6JM+oqv8e3SjJTmAnwObNmzsuQVp/K+dsdRk4nuuledV1gH0GOAn40lG8525g08jyxuG6UQeBG6vqu8B/JPkcg0C7eXSjqloGlgGWlpa6DlFpKjxnS5pM1wG2AdiX5Cbg2ysrq2rHKu+5GdiS5FQGwXU+MP7r4oeBC4B3JNnA4JDiHR3WLUlqTNcB9sajfUNV3ZfkYuAaBt9vvb2qbk9yGbCnqnYNX3tRkn0Mvlt7XVV9pcO6JUmN6TTAquq6JD8I/Phw1U2TdAxW1W5g99i6S0eeF/Ca4UOSpG5PZE7yUuAm4OeBlwI3JnlJl/uQJAm6P4T4BuDHV2ZdSX4A+CfgAx3vR2rOJC3ytrxLk+v6UlKPGDtk+JV12IfUpNVua7LClndpcl3PwD6a5BrgquHyLzD23Za0yGyRl7rTdRPH65K8GHjucNVyVX2oy31IkgTrcC3Eqvog8MGuP1eSpFGdBFiSf62q5yX5HwbXPnzgJQZd8Cd2sR9JklZ0EmBV9bzhnyd08XmSJB1J51ejr6pfPNI6qWvrcRX3rtkiL3Wr6xb3Hx1dSHIscEbH+5AeYpIW9b7ZIi91q6vvwF4P/A7wfUm+vrIa+A7Dq8NL680WdWmxdDIDq6o/Ah4LvKuqThw+TqiqJ1TV67vYhyRJozo7hFhV/8f3LuIrSdK66vo7sH9LYohJktZd1ycynwW8PMmdwDf43nlgz+x4P5KkBdd1gP1Mx58nAUduk7dFXVo8nR5CrKo7gccBPzt8PG64TnpYjtQmb4u6tHi6PpH51cCrgL8brnpPkuWq+osu96PFZJu8pFFdH0K8CDirqr4BkORNwCcBA0yS1KmuuxAD3D+yfP9wnSRJnep6BvYO4MYkH2IQXOcBb+t4H5IkdX5DyzcnuRZ4HoPbqryyqm7pch+SJEH3hxBXZOxPSZI61WmAJbkUeCfweGAD8I4kv9vlPrRYlvcus/2K7TN/pXlJ09f1d2AvB36sqr4FkOSPgVuBP+x4P1oQK+d/eZ6XpHFdB9gXgeOBbw2XHwXc3fE+tGA8/0vSoXQdYPcCtyf5RwZNHC8EbkryFoCq+s2O9ydJWlBdB9iHho8V13b8+ZIkAd230b8zyXHAacNV+6vqu13uQ5Ik6P5aiNsZdCF+nkEL/aYkv1xV13e5H0mSuj6E+GfAi6pqP0CS04CrgDM63o/m1PhtU7xNiqTD6fpE5keuhBdAVX0OeGTH+9AcG79tiu3zkg6n6xnY3iR/C7xnuPxyYE/H+9Ccs21e0iS6DrBfAX4dWGmX/xfgLzvehyRJ3R1CTHIM8KmqenNV/dzw8edV9e0J3nt2kv1JDiS5ZJXtXpykkix1VbckqU2dBVhV3Q/sT7L5aN43DL7LgXOArcAFSbYeYrsTgFcDN3ZQriSpcV0fQnw8gytx3AR8Y2VlVe1Y5T1nAgeq6g6AJFczuI/YvrHt/gB4E/C6TiuWJDWp6wD7vTW852TgrpHlg8BZoxskeTawqar+PokB1pDxtvgjsW1e0qQ6CbAkxzNo4Hgy8GngbVV1X0ef/QjgzcCFE2y7E9gJsHnzUR3J1DoZvZr8JGyblzSprmZg7wS+y6DrcOW7rFdP+N67gU0jyxt58BXsTwCeDlybBOAkYFeSHVX1oBb9qloGlgGWlpbq6P8aWg+2xUtaD10F2NaqegZAkrcBNx3Fe28GtiQ5lUFwnQ888Ct4Vd3L4OaYDD//WuC3x8NLkrRYuupCfOCCvUd76HC4/cXANcBngfdV1e1JLkuyWvOHJGmBdTUD+7EkXx8+D/B9w+UAVVUnrvbmqtoN7B5bd+lhtt3+8MuVJLWukwCrqmO6+BxJkibV9cV8JUmaCgNMktQkA0yS1CQDTJLUJANMktQkA0yS1CQDTJLUJANMktSkrm+nIj3oFireHkXSenEGps6t3EIFvD2KpPXjDEzrwluoSFpvzsAkSU0ywCRJTTLAJElNMsAkSU2yiUOdsHVe0rQ5A1MnbJ2XNG3OwNQZW+clTZMzMElSkwwwSVKTDDBJUpMMMElSk2zi0JrZOi+pT87AtGa2zkvqkzMwPSy2zkvqizMwSVKTDDBJUpMMMElSkwwwSVKTbOLQQ4y2x6/G1nlJfXIGpocYbY9fja3zkvrkDEyHZHu8pFnnDEyS1CQDTJLUpJkIsCRnJ9mf5ECSSw7x+muS7EtyW5KPJTmljzolSbOj9wBLcgxwOXAOsBW4IMnWsc1uAZaq6pnAB4A/mW6VkqRZ03uAAWcCB6rqjqr6DnA1cN7oBlX18ar65nDxBmDjlGuUJM2YWQiwk4G7RpYPDtcdzkXAR9a1ogW1vHeZ7Vdsn6iFXpL61lQbfZJXAEvAtsO8vhPYCbB58+YpVjYfVs7/8vwuSS2YhQC7G9g0srxxuO5BkrwAeAOwraq+fagPqqplYBlgaWmpui91/nn+l6RWzMIhxJuBLUlOTXIccD6wa3SDJM8C/hrYUVX39FCjJGnG9B5gVXUfcDFwDfBZ4H1VdXuSy5LsGG72p8BjgPcnuTXJrsN8nCRpQczCIUSqajewe2zdpSPPXzD1oiRJM633GZgkSWsxEzMw9WP8tineHkVSS5yBLbDx26bYPi+pJc7AFpxt85Ja5QxMktQkA0yS1CQDTJLUJANMktQkmzgaNd4Cvxa2zUtqmTOwRo23wK+FbfOSWuYMrGG2wEtaZM7AJElNMsAkSU0ywCRJTTLAJElNsomjRw+nFd4WeEmLzhlYjx5OK7wt8JIWnTOwntkKL0lr4wxMktQkA0yS1CQDTJLUJANMktQkA0yS1CS7EA+hi1uVTMJzuSRp7ZyBHUIXtyqZhOdySdLaOQM7DM/PkqTZ5gxMktQkA0yS1CQDTJLUJANMktQkA2zM8t5lrrvzur7LkCQdgQE2ZuX8L9vbJWm2GWCHsO2Ubew8Y2ffZUiSVmGASZKaNBMBluTsJPuTHEhyySFef1SS9w5fvzHJk3ooU5I0Q3oPsCTHAJcD5wBbgQuSbB3b7CLga1X1ZODPgTdNt0pJ0qzpPcCAM4EDVXVHVX0HuBo4b2yb84B3Dp9/AHh+kkyxRknSjJmFADsZuGtk+eBw3SG3qar7gHuBJ0ylOknSTJqri/km2QmstA/+b5L9wAbgv476s145VxO8NY3BnHEMHIMVjsPqY3DKNAt5OGYhwO4GNo0sbxyuO9Q2B5McCzwW+Mr4B1XVMrA8ui7Jnqpa6rTixjgGjgE4Bisch/kZg1k4hHgzsCXJqUmOA84Hdo1tswv45eHzlwD/XFU1xRolSTOm9xlYVd2X5GLgGuAY4O1VdXuSy4A9VbULeBvw7iQHgK8yCDlJ0gLrPcAAqmo3sHts3aUjz78F/PwaP375yJvMPcfAMQDHYIXjMCdjEI/ESZJaNAvfgUmSdNTmJsC8HNVEY/CaJPuS3JbkY0maaZed1JHGYGS7FyepJM13Yo2bZAySvHT4s3B7kiunXeN6m+DfwuYkH09yy/Dfw7l91Lmekrw9yT1JPnOY15PkLcMxui3Js6dd48NWVc0/GDR//Dvww8BxwKeArWPb/Brw1uHz84H39l13D2Pw08D3D5//6iKOwXC7E4DrgRuApb7r7uHnYAtwC/D44fIT+667hzFYBn51+Hwr8Pm+616Hcfgp4NnAZw7z+rnAR4AAzwFu7Lvmo33MywzMy1FNMAZV9fGq+uZw8QYG59zNk0l+DgD+gMH1NL81zeKmZJIxeBVweVV9DaCq7plyjettkjEo4MTh88cCX5xifVNRVdcz6No+nPOAd9XADcDjkvzQdKrrxrwEmJejmmwMRl3E4LeveXLEMRgeJtlUVX8/zcKmaJKfg9OA05J8IskNSc6eWnXTMckYvBF4RZKDDDqgf2M6pc2Uo/0/Y+bMRBu9pivJK4AlYFvftUxTkkcAbwYu7LmUvh3L4DDidgaz8OuTPKOq/rvPoqbsAuCKqvqzJD/B4DzTp1fV//VdmCY3LzOwo7kcFatdjqphk4wBSV4AvAHYUVXfnlJt03KkMTgBeDpwbZLPMzjuv2vOGjkm+Tk4COyqqu9W1X8An2MQaPNikjG4CHgfQFV9EjiewfUBF8lE/2fMsnkJMC9HNcEYJHkW8NcMwmvevveAI4xBVd1bVRuq6klV9SQG3wPuqKo9/ZS7Lib5t/BhBrMvkmxgcEjxjinWuN4mGYMvAM8HSPI0BgH25alW2b9dwC8NuxGfA9xbVV/qu6ijMReHEMvLUU06Bn8KPAZ4/7B/5QtVtaO3ojs24RjMtQnH4BrgRUn2AfcDr6uquTkaMeEYvBb4myS/xaCh48I5+4WWJFcx+EVlw/C7vt8HHglQVW9l8N3fucAB4JvAK/updO28EockqUnzcghRkrRgDDBJUpMMMElSkwwwSVKTDDBJUpMMMElSkwwwSVKTDDBJUpMMMElSkwwwSVKTDDBJUpMMMElSkwwwSVKTDDBJUpMMMElSkwwwSVKTDDBJUpMMMElSkwwwSVKTDDBJUpP+H0E7mtSeS9HHAAAAAElFTkSuQmCC",
            "_dom_classes": [],
            "_figure_label": "Figure",
            "_image_mode": "full",
            "_message": "",
            "_model_module": "jupyter-matplotlib",
            "_model_module_version": "^0.11",
            "_model_name": "MPLCanvasModel",
            "_rubberband_height": 0,
            "_rubberband_width": 0,
            "_rubberband_x": 0,
            "_rubberband_y": 0,
            "_size": [
              432,
              288
            ],
            "_view_count": null,
            "_view_module": "jupyter-matplotlib",
            "_view_module_version": "^0.11",
            "_view_name": "MPLCanvasView",
            "capture_scroll": false,
            "footer_visible": true,
            "header_visible": true,
            "layout": "IPY_MODEL_f07cc2a4aef340e497faa885d4d24d65",
            "pan_zoom_throttle": 33,
            "resizable": true,
            "toolbar": "IPY_MODEL_7f131f284596458c9136a7694bd99d96",
            "toolbar_position": "left",
            "toolbar_visible": "fade-in-fade-out"
          }
        },
        "f07cc2a4aef340e497faa885d4d24d65": {
          "model_module": "@jupyter-widgets/base",
          "model_name": "LayoutModel",
          "model_module_version": "1.2.0",
          "state": {
            "_model_module": "@jupyter-widgets/base",
            "_model_module_version": "1.2.0",
            "_model_name": "LayoutModel",
            "_view_count": null,
            "_view_module": "@jupyter-widgets/base",
            "_view_module_version": "1.2.0",
            "_view_name": "LayoutView",
            "align_content": null,
            "align_items": null,
            "align_self": null,
            "border": null,
            "bottom": null,
            "display": null,
            "flex": null,
            "flex_flow": null,
            "grid_area": null,
            "grid_auto_columns": null,
            "grid_auto_flow": null,
            "grid_auto_rows": null,
            "grid_column": null,
            "grid_gap": null,
            "grid_row": null,
            "grid_template_areas": null,
            "grid_template_columns": null,
            "grid_template_rows": null,
            "height": null,
            "justify_content": null,
            "justify_items": null,
            "left": null,
            "margin": null,
            "max_height": null,
            "max_width": null,
            "min_height": null,
            "min_width": null,
            "object_fit": null,
            "object_position": null,
            "order": null,
            "overflow": null,
            "overflow_x": null,
            "overflow_y": null,
            "padding": null,
            "right": null,
            "top": null,
            "visibility": null,
            "width": null
          }
        },
        "7f131f284596458c9136a7694bd99d96": {
          "model_module": "jupyter-matplotlib",
          "model_name": "ToolbarModel",
          "model_module_version": "^0.11",
          "state": {
            "_current_action": "",
            "_dom_classes": [],
            "_model_module": "jupyter-matplotlib",
            "_model_module_version": "^0.11",
            "_model_name": "ToolbarModel",
            "_view_count": null,
            "_view_module": "jupyter-matplotlib",
            "_view_module_version": "^0.11",
            "_view_name": "ToolbarView",
            "button_style": "",
            "collapsed": true,
            "layout": "IPY_MODEL_0a1d864dcde34bf6980ac98005f764c3",
            "orientation": "vertical",
            "toolitems": [
              [
                "Home",
                "Reset original view",
                "home",
                "home"
              ],
              [
                "Back",
                "Back to previous view",
                "arrow-left",
                "back"
              ],
              [
                "Forward",
                "Forward to next view",
                "arrow-right",
                "forward"
              ],
              [
                "Pan",
                "Left button pans, Right button zooms\nx/y fixes axis, CTRL fixes aspect",
                "arrows",
                "pan"
              ],
              [
                "Zoom",
                "Zoom to rectangle\nx/y fixes axis",
                "square-o",
                "zoom"
              ],
              [
                "Download",
                "Download plot",
                "floppy-o",
                "save_figure"
              ]
            ]
          }
        },
        "0a1d864dcde34bf6980ac98005f764c3": {
          "model_module": "@jupyter-widgets/base",
          "model_name": "LayoutModel",
          "model_module_version": "1.2.0",
          "state": {
            "_model_module": "@jupyter-widgets/base",
            "_model_module_version": "1.2.0",
            "_model_name": "LayoutModel",
            "_view_count": null,
            "_view_module": "@jupyter-widgets/base",
            "_view_module_version": "1.2.0",
            "_view_name": "LayoutView",
            "align_content": null,
            "align_items": null,
            "align_self": null,
            "border": null,
            "bottom": null,
            "display": null,
            "flex": null,
            "flex_flow": null,
            "grid_area": null,
            "grid_auto_columns": null,
            "grid_auto_flow": null,
            "grid_auto_rows": null,
            "grid_column": null,
            "grid_gap": null,
            "grid_row": null,
            "grid_template_areas": null,
            "grid_template_columns": null,
            "grid_template_rows": null,
            "height": null,
            "justify_content": null,
            "justify_items": null,
            "left": null,
            "margin": null,
            "max_height": null,
            "max_width": null,
            "min_height": null,
            "min_width": null,
            "object_fit": null,
            "object_position": null,
            "order": null,
            "overflow": null,
            "overflow_x": null,
            "overflow_y": null,
            "padding": null,
            "right": null,
            "top": null,
            "visibility": null,
            "width": null
          }
        },
        "f2077599de5b4b4a86aa5dacc05cbc74": {
          "model_module": "jupyter-matplotlib",
          "model_name": "MPLCanvasModel",
          "model_module_version": "^0.11",
          "state": {
            "_cursor": "pointer",
            "_data_url": "data:image/png;base64,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",
            "_dom_classes": [],
            "_figure_label": "Figure",
            "_image_mode": "full",
            "_message": "",
            "_model_module": "jupyter-matplotlib",
            "_model_module_version": "^0.11",
            "_model_name": "MPLCanvasModel",
            "_rubberband_height": 0,
            "_rubberband_width": 0,
            "_rubberband_x": 0,
            "_rubberband_y": 0,
            "_size": [
              432,
              288
            ],
            "_view_count": null,
            "_view_module": "jupyter-matplotlib",
            "_view_module_version": "^0.11",
            "_view_name": "MPLCanvasView",
            "capture_scroll": false,
            "footer_visible": true,
            "header_visible": true,
            "layout": "IPY_MODEL_d823b27489904edbad75153d9e1a4de3",
            "pan_zoom_throttle": 33,
            "resizable": true,
            "toolbar": "IPY_MODEL_5dac9d3632e74334a3e9f3984f88d688",
            "toolbar_position": "left",
            "toolbar_visible": "fade-in-fade-out"
          }
        },
        "d823b27489904edbad75153d9e1a4de3": {
          "model_module": "@jupyter-widgets/base",
          "model_name": "LayoutModel",
          "model_module_version": "1.2.0",
          "state": {
            "_model_module": "@jupyter-widgets/base",
            "_model_module_version": "1.2.0",
            "_model_name": "LayoutModel",
            "_view_count": null,
            "_view_module": "@jupyter-widgets/base",
            "_view_module_version": "1.2.0",
            "_view_name": "LayoutView",
            "align_content": null,
            "align_items": null,
            "align_self": null,
            "border": null,
            "bottom": null,
            "display": null,
            "flex": null,
            "flex_flow": null,
            "grid_area": null,
            "grid_auto_columns": null,
            "grid_auto_flow": null,
            "grid_auto_rows": null,
            "grid_column": null,
            "grid_gap": null,
            "grid_row": null,
            "grid_template_areas": null,
            "grid_template_columns": null,
            "grid_template_rows": null,
            "height": null,
            "justify_content": null,
            "justify_items": null,
            "left": null,
            "margin": null,
            "max_height": null,
            "max_width": null,
            "min_height": null,
            "min_width": null,
            "object_fit": null,
            "object_position": null,
            "order": null,
            "overflow": null,
            "overflow_x": null,
            "overflow_y": null,
            "padding": null,
            "right": null,
            "top": null,
            "visibility": null,
            "width": null
          }
        },
        "5dac9d3632e74334a3e9f3984f88d688": {
          "model_module": "jupyter-matplotlib",
          "model_name": "ToolbarModel",
          "model_module_version": "^0.11",
          "state": {
            "_current_action": "",
            "_dom_classes": [],
            "_model_module": "jupyter-matplotlib",
            "_model_module_version": "^0.11",
            "_model_name": "ToolbarModel",
            "_view_count": null,
            "_view_module": "jupyter-matplotlib",
            "_view_module_version": "^0.11",
            "_view_name": "ToolbarView",
            "button_style": "",
            "collapsed": true,
            "layout": "IPY_MODEL_dda85b6b49e049e88d8df593e7b9c80c",
            "orientation": "vertical",
            "toolitems": [
              [
                "Home",
                "Reset original view",
                "home",
                "home"
              ],
              [
                "Back",
                "Back to previous view",
                "arrow-left",
                "back"
              ],
              [
                "Forward",
                "Forward to next view",
                "arrow-right",
                "forward"
              ],
              [
                "Pan",
                "Left button pans, Right button zooms\nx/y fixes axis, CTRL fixes aspect",
                "arrows",
                "pan"
              ],
              [
                "Zoom",
                "Zoom to rectangle\nx/y fixes axis",
                "square-o",
                "zoom"
              ],
              [
                "Download",
                "Download plot",
                "floppy-o",
                "save_figure"
              ]
            ]
          }
        },
        "dda85b6b49e049e88d8df593e7b9c80c": {
          "model_module": "@jupyter-widgets/base",
          "model_name": "LayoutModel",
          "model_module_version": "1.2.0",
          "state": {
            "_model_module": "@jupyter-widgets/base",
            "_model_module_version": "1.2.0",
            "_model_name": "LayoutModel",
            "_view_count": null,
            "_view_module": "@jupyter-widgets/base",
            "_view_module_version": "1.2.0",
            "_view_name": "LayoutView",
            "align_content": null,
            "align_items": null,
            "align_self": null,
            "border": null,
            "bottom": null,
            "display": null,
            "flex": null,
            "flex_flow": null,
            "grid_area": null,
            "grid_auto_columns": null,
            "grid_auto_flow": null,
            "grid_auto_rows": null,
            "grid_column": null,
            "grid_gap": null,
            "grid_row": null,
            "grid_template_areas": null,
            "grid_template_columns": null,
            "grid_template_rows": null,
            "height": null,
            "justify_content": null,
            "justify_items": null,
            "left": null,
            "margin": null,
            "max_height": null,
            "max_width": null,
            "min_height": null,
            "min_width": null,
            "object_fit": null,
            "object_position": null,
            "order": null,
            "overflow": null,
            "overflow_x": null,
            "overflow_y": null,
            "padding": null,
            "right": null,
            "top": null,
            "visibility": null,
            "width": null
          }
        },
        "c996677a829a46ecb4828753cab6ff56": {
          "model_module": "jupyter-matplotlib",
          "model_name": "MPLCanvasModel",
          "model_module_version": "^0.11",
          "state": {
            "_cursor": "default",
            "_data_url": "data:image/png;base64,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",
            "_dom_classes": [],
            "_figure_label": "Figure 1",
            "_image_mode": "full",
            "_message": "",
            "_model_module": "jupyter-matplotlib",
            "_model_module_version": "^0.11",
            "_model_name": "MPLCanvasModel",
            "_rubberband_height": 0,
            "_rubberband_width": 0,
            "_rubberband_x": 0,
            "_rubberband_y": 0,
            "_size": [
              432,
              288
            ],
            "_view_count": null,
            "_view_module": "jupyter-matplotlib",
            "_view_module_version": "^0.11",
            "_view_name": "MPLCanvasView",
            "capture_scroll": false,
            "footer_visible": true,
            "header_visible": true,
            "layout": "IPY_MODEL_5474b713ab5847798e0e7623e82589df",
            "pan_zoom_throttle": 33,
            "resizable": true,
            "toolbar": "IPY_MODEL_3ee0a58efdb64908b6aa098cc9a809b4",
            "toolbar_position": "left",
            "toolbar_visible": "fade-in-fade-out"
          }
        },
        "5474b713ab5847798e0e7623e82589df": {
          "model_module": "@jupyter-widgets/base",
          "model_name": "LayoutModel",
          "model_module_version": "1.2.0",
          "state": {
            "_model_module": "@jupyter-widgets/base",
            "_model_module_version": "1.2.0",
            "_model_name": "LayoutModel",
            "_view_count": null,
            "_view_module": "@jupyter-widgets/base",
            "_view_module_version": "1.2.0",
            "_view_name": "LayoutView",
            "align_content": null,
            "align_items": null,
            "align_self": null,
            "border": null,
            "bottom": null,
            "display": null,
            "flex": null,
            "flex_flow": null,
            "grid_area": null,
            "grid_auto_columns": null,
            "grid_auto_flow": null,
            "grid_auto_rows": null,
            "grid_column": null,
            "grid_gap": null,
            "grid_row": null,
            "grid_template_areas": null,
            "grid_template_columns": null,
            "grid_template_rows": null,
            "height": null,
            "justify_content": null,
            "justify_items": null,
            "left": null,
            "margin": null,
            "max_height": null,
            "max_width": null,
            "min_height": null,
            "min_width": null,
            "object_fit": null,
            "object_position": null,
            "order": null,
            "overflow": null,
            "overflow_x": null,
            "overflow_y": null,
            "padding": null,
            "right": null,
            "top": null,
            "visibility": null,
            "width": null
          }
        },
        "3ee0a58efdb64908b6aa098cc9a809b4": {
          "model_module": "jupyter-matplotlib",
          "model_name": "ToolbarModel",
          "model_module_version": "^0.11",
          "state": {
            "_current_action": "",
            "_dom_classes": [],
            "_model_module": "jupyter-matplotlib",
            "_model_module_version": "^0.11",
            "_model_name": "ToolbarModel",
            "_view_count": null,
            "_view_module": "jupyter-matplotlib",
            "_view_module_version": "^0.11",
            "_view_name": "ToolbarView",
            "button_style": "",
            "collapsed": true,
            "layout": "IPY_MODEL_9a4ae1e132e3425d86fde954eb5e1229",
            "orientation": "vertical",
            "toolitems": [
              [
                "Home",
                "Reset original view",
                "home",
                "home"
              ],
              [
                "Back",
                "Back to previous view",
                "arrow-left",
                "back"
              ],
              [
                "Forward",
                "Forward to next view",
                "arrow-right",
                "forward"
              ],
              [
                "Pan",
                "Left button pans, Right button zooms\nx/y fixes axis, CTRL fixes aspect",
                "arrows",
                "pan"
              ],
              [
                "Zoom",
                "Zoom to rectangle\nx/y fixes axis",
                "square-o",
                "zoom"
              ],
              [
                "Download",
                "Download plot",
                "floppy-o",
                "save_figure"
              ]
            ]
          }
        },
        "9a4ae1e132e3425d86fde954eb5e1229": {
          "model_module": "@jupyter-widgets/base",
          "model_name": "LayoutModel",
          "model_module_version": "1.2.0",
          "state": {
            "_model_module": "@jupyter-widgets/base",
            "_model_module_version": "1.2.0",
            "_model_name": "LayoutModel",
            "_view_count": null,
            "_view_module": "@jupyter-widgets/base",
            "_view_module_version": "1.2.0",
            "_view_name": "LayoutView",
            "align_content": null,
            "align_items": null,
            "align_self": null,
            "border": null,
            "bottom": null,
            "display": null,
            "flex": null,
            "flex_flow": null,
            "grid_area": null,
            "grid_auto_columns": null,
            "grid_auto_flow": null,
            "grid_auto_rows": null,
            "grid_column": null,
            "grid_gap": null,
            "grid_row": null,
            "grid_template_areas": null,
            "grid_template_columns": null,
            "grid_template_rows": null,
            "height": null,
            "justify_content": null,
            "justify_items": null,
            "left": null,
            "margin": null,
            "max_height": null,
            "max_width": null,
            "min_height": null,
            "min_width": null,
            "object_fit": null,
            "object_position": null,
            "order": null,
            "overflow": null,
            "overflow_x": null,
            "overflow_y": null,
            "padding": null,
            "right": null,
            "top": null,
            "visibility": null,
            "width": null
          }
        },
        "4a5f7337517045a6bfa42b2988483619": {
          "model_module": "@jupyter-widgets/base",
          "model_name": "LayoutModel",
          "model_module_version": "1.2.0",
          "state": {
            "_model_module": "@jupyter-widgets/base",
            "_model_module_version": "1.2.0",
            "_model_name": "LayoutModel",
            "_view_count": null,
            "_view_module": "@jupyter-widgets/base",
            "_view_module_version": "1.2.0",
            "_view_name": "LayoutView",
            "align_content": null,
            "align_items": null,
            "align_self": null,
            "border": null,
            "bottom": null,
            "display": null,
            "flex": null,
            "flex_flow": null,
            "grid_area": null,
            "grid_auto_columns": null,
            "grid_auto_flow": null,
            "grid_auto_rows": null,
            "grid_column": null,
            "grid_gap": null,
            "grid_row": null,
            "grid_template_areas": null,
            "grid_template_columns": null,
            "grid_template_rows": null,
            "height": null,
            "justify_content": null,
            "justify_items": null,
            "left": null,
            "margin": null,
            "max_height": null,
            "max_width": null,
            "min_height": null,
            "min_width": null,
            "object_fit": null,
            "object_position": null,
            "order": null,
            "overflow": null,
            "overflow_x": null,
            "overflow_y": null,
            "padding": null,
            "right": null,
            "top": null,
            "visibility": null,
            "width": null
          }
        },
        "30de929a6b7b4a679e55cc1b20a690d8": {
          "model_module": "jupyter-matplotlib",
          "model_name": "ToolbarModel",
          "model_module_version": "^0.11",
          "state": {
            "_current_action": "",
            "_dom_classes": [],
            "_model_module": "jupyter-matplotlib",
            "_model_module_version": "^0.11",
            "_model_name": "ToolbarModel",
            "_view_count": null,
            "_view_module": "jupyter-matplotlib",
            "_view_module_version": "^0.11",
            "_view_name": "ToolbarView",
            "button_style": "",
            "collapsed": true,
            "layout": "IPY_MODEL_4a5f7337517045a6bfa42b2988483619",
            "orientation": "vertical",
            "toolitems": [
              [
                "Home",
                "Reset original view",
                "home",
                "home"
              ],
              [
                "Back",
                "Back to previous view",
                "arrow-left",
                "back"
              ],
              [
                "Forward",
                "Forward to next view",
                "arrow-right",
                "forward"
              ],
              [
                "Pan",
                "Left button pans, Right button zooms\nx/y fixes axis, CTRL fixes aspect",
                "arrows",
                "pan"
              ],
              [
                "Zoom",
                "Zoom to rectangle\nx/y fixes axis",
                "square-o",
                "zoom"
              ],
              [
                "Download",
                "Download plot",
                "floppy-o",
                "save_figure"
              ]
            ]
          }
        }
      }
    }
  },
  "cells": [
    {
      "cell_type": "markdown",
      "metadata": {
        "id": "view-in-github",
        "colab_type": "text"
      },
      "source": [
        "<a href=\"https://colab.research.google.com/github/punch-bob/MathStatCalcTask/blob/main/MathStatCalcTask.ipynb\" target=\"_parent\"><img src=\"https://colab.research.google.com/assets/colab-badge.svg\" alt=\"Open In Colab\"/></a>"
      ]
    },
    {
      "cell_type": "markdown",
      "source": [
        "#$\\text{First:}$"
      ],
      "metadata": {
        "id": "oLILXf8KnYgq"
      }
    },
    {
      "cell_type": "code",
      "source": [
        "#!pip install ipympl"
      ],
      "metadata": {
        "id": "NH5ukJFyDuyX"
      },
      "execution_count": 1,
      "outputs": []
    },
    {
      "cell_type": "code",
      "source": [
        "from google.colab import output\n",
        "output.enable_custom_widget_manager()"
      ],
      "metadata": {
        "id": "dmgoVHtUgmuv"
      },
      "execution_count": 2,
      "outputs": []
    },
    {
      "cell_type": "code",
      "execution_count": 3,
      "metadata": {
        "id": "R76YbRnY-MvS"
      },
      "outputs": [],
      "source": [
        "import math\n",
        "from scipy.stats import norm\n",
        "from scipy.stats.distributions import chi2, t"
      ]
    },
    {
      "cell_type": "code",
      "source": [
        "task1Data = [-1.135, -0.592, -0.766, -1.177, -0.735, -1.717, 0.336, -1.140, -0.155, -2.048,\n",
        "             -1.137, -2.147, -0.313, -0.056, -0.286, -0.829, -0.290, -0.639, -1.397, 0.362,\n",
        "             -0.393, -1.347, -0.185, -0.715, -1.846, -0.038, -1.242, -0.387, -0.669, -0.997,\n",
        "             -2.424, -1.103, -0.843, -0.552, -1.283, -1.026, -1.448, -0.231, -0.267, -0.769,\n",
        "             -0.341, -1.874, -1.213, -2.168, -2.116, -0.886, -1.061, -0.937, 0.576, -0.636]\n",
        "n1 = len(task1Data)\n",
        "sigma = 0.5\n",
        "alpha = -1"
      ],
      "metadata": {
        "id": "edWpFA5m-Wp5"
      },
      "execution_count": 4,
      "outputs": []
    },
    {
      "cell_type": "code",
      "source": [
        "def getSampleMean():\n",
        "  sampleMean = 0\n",
        "  for number in task1Data:\n",
        "    sampleMean += number\n",
        "  return sampleMean / n1"
      ],
      "metadata": {
        "id": "flonRQ8Q_mHq"
      },
      "execution_count": 5,
      "outputs": []
    },
    {
      "cell_type": "code",
      "source": [
        "def getSampleVariance(mathExpectation):\n",
        "  sampleVarience = 0\n",
        "  for number in task1Data:\n",
        "    sampleVarience += (number - mathExpectation)**2\n",
        "  return sampleVarience / n1"
      ],
      "metadata": {
        "id": "DSC1DbQcAktO"
      },
      "execution_count": 6,
      "outputs": []
    },
    {
      "cell_type": "code",
      "source": [
        "def getUnbiasedSampleVariance(mathExpectation):\n",
        "  sampleVariance = getSampleVariance(mathExpectation)\n",
        "  return sampleVariance * n1 / (n1 - 1)"
      ],
      "metadata": {
        "id": "YPu2CQNCBtq5"
      },
      "execution_count": 7,
      "outputs": []
    },
    {
      "cell_type": "markdown",
      "source": [
        "##$\\text{Сonfidence intervals:}$"
      ],
      "metadata": {
        "id": "Kkc3_G_GIDUI"
      }
    },
    {
      "cell_type": "markdown",
      "source": [
        "###$\\text{a) for} \\space\\space \\alpha, \\text{ if }\\space \\sigma^2 \\space  \\text{known;}$"
      ],
      "metadata": {
        "id": "XdKM5GqRIp5J"
      }
    },
    {
      "cell_type": "markdown",
      "source": [
        "$$№1$$\n",
        "$$$$\n",
        "$$\\vec{X} \\sim N_{\\alpha, \\sigma^2}$$\n",
        "$\\text{a) }\\overline{X} \\sim N_{\\alpha, \\frac{\\sigma^2}{n}}$\n",
        "\n",
        "$G(\\overline{X}, \\alpha) = \\frac{\\overline{X} - \\alpha}{\\sqrt{\\frac{\\sigma^2}{n}}} \\sim N_{0, 1} \\text{ (Theorem on the properties of normal samples)}$\n",
        "\n",
        "$P(\\alpha^{-} \\leq \\sqrt{n}\\frac{(\\overline{X} - \\alpha)}{\\sigma} \\leq \\alpha^{+}) = 1 - \\varepsilon$\n",
        "\n",
        "\\begin{cases}\n",
        "    \\phi_{0,1}(\\alpha^{-}) = \\frac{\\varepsilon}{2}\\\\\n",
        "    \\phi_{0,1}(\\alpha^{+}) = 1 - \\frac{\\varepsilon}{2}\n",
        "\\end{cases}\n",
        "\n",
        "\\begin{cases}\n",
        "    \\alpha^{-} = -\\tau_{1 - \\frac{\\varepsilon}{2}}\\\\\n",
        "    \\alpha^{+} = \\tau_{1 - \\frac{\\varepsilon}{2}}\n",
        "\\end{cases}\n",
        "\n",
        "$P(-\\tau_{1 - \\frac{\\varepsilon}{2}} \\leq \\sqrt{n}\\frac{(\\overline{X} - \\alpha)}{\\sigma} \\leq \\tau_{1 - \\frac{\\varepsilon}{2}}) = 1 - \\varepsilon$\n",
        "\n",
        "$P(\\overline{X} - \\frac{\\sigma\\tau_{1 - \\frac{\\varepsilon}{2}}}{\\sqrt{n}} \\leq \\alpha \\leq \\overline{X} + \\frac{\\sigma\\tau_{1 - \\frac{\\varepsilon}{2}}}{\\sqrt{n}}) = 1 - \\varepsilon$\n",
        "\n",
        "$\\text{Confidence interval for }\\alpha\\text{, with a known } \\sigma^2:$\n",
        "\n",
        "$$(\\overline{X} - \\frac{\\sigma\\tau_{1 - \\frac{\\varepsilon}{2}}}{\\sqrt{n}};\\overline{X} + \\frac{\\sigma\\tau_{1 - \\frac{\\varepsilon}{2}}}{\\sqrt{n}})$$\n",
        "\n"
      ],
      "metadata": {
        "id": "2R3VH1c6PqEg"
      }
    },
    {
      "cell_type": "code",
      "source": [
        "def buildConfidenceIntervalA():\n",
        "  sampleMean = getSampleMean()\n",
        "  alphaPlusArray = [norm.ppf(0.995), norm.ppf(0.975), norm.ppf(0.95)]\n",
        "  \n",
        "  for alphaPlus in alphaPlusArray:\n",
        "    leftBorder = sampleMean - math.sqrt(sigma) * alphaPlus / math.sqrt(n1)\n",
        "    rightBorder = sampleMean + math.sqrt(sigma) * alphaPlus / math.sqrt(n1)\n",
        "    print(f\"({round(leftBorder, 3)} ; {round(rightBorder, 3)})\")"
      ],
      "metadata": {
        "id": "D-ZIT-QICUWE"
      },
      "execution_count": 8,
      "outputs": []
    },
    {
      "cell_type": "markdown",
      "source": [
        "###$\\text{b) for} \\space\\space \\alpha, \\text{ if }\\space \\sigma^2 \\space  \\text{unknown;}$"
      ],
      "metadata": {
        "id": "jfcf9CBpJmRE"
      }
    },
    {
      "cell_type": "markdown",
      "source": [
        "$$№1$$\n",
        "$$$$\n",
        "$$\\vec{X} \\sim N_{\\alpha, \\sigma^2}$$\n",
        "\n",
        "$\\text{b) }\\overline{X} \\sim N_{\\alpha, \\frac{\\sigma^2}{n}}$\n",
        "\n",
        "$G(\\overline{X}, \\alpha) = \\frac{(\\overline{X} - \\alpha)\\sqrt{n}}{S_0} \\sim T_{n - 1}\\text{ (Theorem on the properties of normal samples),   }S_0 = \\sqrt{S_0^2}$\n",
        "\n",
        "\\begin{cases}\n",
        "    T_{n - 1}(\\alpha^{-}) = \\frac{\\varepsilon}{2}\\\\\n",
        "    T_{n - 1}(\\alpha^{+}) = 1 - \\frac{\\varepsilon}{2}\n",
        "\\end{cases}\n",
        "$$\\alpha^{+} = - \\alpha^{-}$$\n",
        "\n",
        "$P(-\\alpha^{+} \\leq \\frac{(\\overline{X} - \\alpha)\\sqrt{n}}{S_0} \\leq \\alpha^{+}) = 1 - \\varepsilon$\n",
        "\n",
        "$P(\\overline{X} - \\frac{\\alpha^{+} S_0}{\\sqrt{n}} \\leq \\alpha \\leq \\overline{X} + \\frac{\\alpha^{+} S_0}{\\sqrt{n}}) = 1 - \\varepsilon$\n",
        "\n",
        "$\\text{Confidence interval for }\\alpha\\text{, with a unknown } \\sigma^2:$\n",
        "\n",
        "$$(\\overline{X} - \\frac{\\alpha^{+} S_0}{\\sqrt{n}};\\overline{X} + \\frac{\\alpha^{+} S_0}{\\sqrt{n}})$$"
      ],
      "metadata": {
        "id": "u3ryo0XqU76x"
      }
    },
    {
      "cell_type": "code",
      "source": [
        "def buildConfidenceIntervalB():\n",
        "  sampleMean = getSampleMean()\n",
        "  unbiasedSampleVariance = getUnbiasedSampleVariance(sampleMean)\n",
        "  alphaPlusArray = [t.ppf(0.995, n1 - 1), t.ppf(0.975, n1 - 1), t.ppf(0.95, n1 - 1)]\n",
        "  for alphaPlus in alphaPlusArray:\n",
        "    leftBorder = sampleMean - alphaPlus * math.sqrt(unbiasedSampleVariance) / math.sqrt(n1)\n",
        "    rightBorder = sampleMean + alphaPlus * math.sqrt(unbiasedSampleVariance) / math.sqrt(n1)\n",
        "    print(f\"({round(leftBorder, 3)} ; {round(rightBorder, 3)})\")"
      ],
      "metadata": {
        "id": "qywezZ1xEVdt"
      },
      "execution_count": 9,
      "outputs": []
    },
    {
      "cell_type": "markdown",
      "source": [
        "###$\\text{c) for} \\space\\space \\sigma^2, \\text{ if }\\space \\alpha \\space  \\text{known;}$"
      ],
      "metadata": {
        "id": "BiIC0cUPPlI2"
      }
    },
    {
      "cell_type": "markdown",
      "source": [
        "$$№1$$\n",
        "$$$$\n",
        "$$\\vec{X} \\sim N_{\\alpha, \\sigma^2}$$\n",
        "\n",
        "$\\text{c) }\\frac{X_i - \\alpha}{\\sigma} \\sim N_{0, 1}$\n",
        "\n",
        "$G(S, \\sigma^2) = \\sum \\limits_{i = 1}^n (\\frac{X_i - \\alpha}{\\sigma})^2 \\sim \\chi_n^2 $\n",
        "\n",
        "$P(\\alpha^{-} \\leq \\sum \\limits_{i = 1}^n (\\frac{X_i - \\alpha}{\\sigma})^2 \\leq \\alpha^{+}) = 1 - \\varepsilon$\n",
        "\n",
        "\\begin{cases}\n",
        "    \\chi_n^2(\\alpha^{-}) = \\frac{\\varepsilon}{2}\\\\\n",
        "    \\chi_n^2(\\alpha^{+}) = 1 - \\frac{\\varepsilon}{2}\n",
        "\\end{cases}\n",
        "\n",
        "$P(\\frac{\\sum \\limits_{i = 1}^n (X_i - \\alpha)^2}{\\alpha^{+}} \\leq \\sigma^2 \\leq \\frac{\\sum \\limits_{i = 1}^n (X_i - \\alpha)^2}{\\alpha^{-}}) = 1 - \\varepsilon$\n",
        "\n",
        "$\\text{Confidence interval for }\\sigma^2\\text{, with a known } \\alpha:$\n",
        "\n",
        "$$\\Biggl( \\frac{\\sum \\limits_{i = 1}^n (X_i - \\alpha)^2}{\\alpha^{+}};\\frac{\\sum \\limits_{i = 1}^n (X_i - \\alpha)^2}{\\alpha^{-}} \\Biggl)$$"
      ],
      "metadata": {
        "id": "5_0VCErCVuSD"
      }
    },
    {
      "cell_type": "code",
      "source": [
        "def buildConfidenceIntervalC():\n",
        "  S = getSampleVariance(alpha)\n",
        "  alphaPlusArray = [chi2.ppf(0.995, df = n1), chi2.ppf(0.975, df = n1), chi2.ppf(0.95, df = n1)]\n",
        "  alphaMinusArray = [chi2.ppf(0.005, df = n1), chi2.ppf(0.025, df = n1), chi2.ppf(0.05, df = n1)]\n",
        "  for i in range(3):\n",
        "    leftBorder = n1 * S / alphaPlusArray[i]\n",
        "    rightBorder = n1 * S / alphaMinusArray[i]\n",
        "    print(f\"({round(leftBorder, 3)} ; {round(rightBorder, 3)})\")"
      ],
      "metadata": {
        "id": "8gfJ0dsyJVgz"
      },
      "execution_count": 10,
      "outputs": []
    },
    {
      "cell_type": "markdown",
      "source": [
        "###$\\text{d) for} \\space\\space \\sigma^2, \\text{ if }\\space \\alpha \\space  \\text{unknown;}$"
      ],
      "metadata": {
        "id": "z7VxeN3AP1Uy"
      }
    },
    {
      "cell_type": "markdown",
      "source": [
        "$$№1$$\n",
        "$$$$\n",
        "$$\\vec{X} \\sim N_{\\alpha, \\sigma^2}$$\n",
        "$\\text{d) }S^2 = \\frac{1}{n}\\sum \\limits_{i = 1}^n (X_i - \\overline{X})^2$\n",
        "\n",
        "$G(S^2, \\sigma^2) = \\frac{nS^2}{\\sigma^2} \\sim \\chi_{n-1}^2 \\text{ (Theorem on the properties of normal samples)}$\n",
        "\n",
        "$P(\\alpha^{-} \\leq \\frac{nS^2}{\\sigma^2} \\leq \\alpha^{+}) = 1 - \\varepsilon$\n",
        "\n",
        "\\begin{cases}\n",
        "    \\chi_{n - 1}^2(\\alpha^{-}) = \\frac{\\varepsilon}{2}\\\\\n",
        "    \\chi_{n - 1}^2(\\alpha^{+}) = 1 - \\frac{\\varepsilon}{2}\n",
        "\\end{cases}\n",
        "\n",
        "$P(\\frac{nS^2}{\\alpha^{+}} \\leq \\sigma^2 \\leq \\frac{nS^2}{\\alpha^{-}}) = 1 - \\varepsilon$\n",
        "\n",
        "$\\text{Confidence interval for }\\sigma^2\\text{, with a unknown } \\alpha:$\n",
        "\n",
        "$$(\\frac{nS^2}{\\alpha^{+}};\\frac{nS^2}{\\alpha^{-}})$$"
      ],
      "metadata": {
        "id": "hOPvpThvWbIt"
      }
    },
    {
      "cell_type": "code",
      "source": [
        "def buildConfidenceIntervalD():\n",
        "  sampleMean = getSampleMean()\n",
        "  sampleVariance = getSampleVariance(sampleMean)\n",
        "  alphaPlusArray = [chi2.ppf(0.995, df = n1 - 1), chi2.ppf(0.975, df = n1 - 1), chi2.ppf(0.95, df = n1 - 1)]\n",
        "  alphaMinusArray = [chi2.ppf(0.005, df = n1 - 1), chi2.ppf(0.025, df = n1 - 1), chi2.ppf(0.05, df = n1 - 1)]\n",
        "  for i in range(3):\n",
        "    leftBorder = n1 * sampleVariance / alphaPlusArray[i]\n",
        "    rightBorder = n1 * sampleVariance / alphaMinusArray[i]\n",
        "    print(f\"({round(leftBorder, 3)} ; {round(rightBorder, 3)})\")"
      ],
      "metadata": {
        "id": "pKFgoUeoNrAV"
      },
      "execution_count": 11,
      "outputs": []
    },
    {
      "cell_type": "code",
      "source": [
        "import matplotlib.pyplot as plt\n",
        "import pandas as pd\n",
        "import seaborn as sns\n",
        "import numpy as np\n",
        "\n",
        "from scipy.stats import kstwobign as klm"
      ],
      "metadata": {
        "id": "8d2V_X3xb6MB"
      },
      "execution_count": 12,
      "outputs": []
    },
    {
      "cell_type": "markdown",
      "source": [
        "#$\\text{Second:}$"
      ],
      "metadata": {
        "id": "epiRq850nfI7"
      }
    },
    {
      "cell_type": "code",
      "source": [
        "\n",
        "task2Data = [0.041, 0.234, 0.279, 0.654, 0.297, 0.667, 0.044, 0.701, 0.710, 0.952,\n",
        "             0.298, 0.795, 0.618, 0.377, 0.222, 0.269, 0.626, 0.348, 0.503, 0.630,\n",
        "             0.335, 0.975, 0.973, 0.169, 0.596, 0.288, 0.353, 0.124, 0.530, 0.239]\n",
        "a = 0\n",
        "b = 1\n",
        "n2 = len(task2Data)\n",
        "epsilon = 0.05"
      ],
      "metadata": {
        "id": "9QRdP47ZZ-r1"
      },
      "execution_count": 13,
      "outputs": []
    },
    {
      "cell_type": "markdown",
      "source": [
        "##$\\text{a) Empirical function and histogram;}$"
      ],
      "metadata": {
        "id": "kc8YGo4tQIZu"
      }
    },
    {
      "cell_type": "markdown",
      "source": [
        "$$№2$$\n",
        "$$$$\n",
        "$$\\vec{X} \\sim U_{[0,1]}$$\n",
        "\n",
        "$\\text{a) Empirical function:}$\n",
        "\n",
        "$$F_n^*(t) = \\frac{1}{n}\\sum \\limits_{i = 1}^nI(X_i < t),\\space\\space I(A) = \n",
        "\\begin{cases}\n",
        "  1, w \\in A\\\\\n",
        "  0, w \\notin A\n",
        "\\end{cases}$$"
      ],
      "metadata": {
        "id": "ZSKYDdDfk7l-"
      }
    },
    {
      "cell_type": "code",
      "source": [
        "def drawEmpiricalFunction():\n",
        "  sns.ecdfplot(data = task2Data, c = \"green\")\n",
        "  plt.show()"
      ],
      "metadata": {
        "id": "4k1mCyt_bpLf"
      },
      "execution_count": 14,
      "outputs": []
    },
    {
      "cell_type": "code",
      "source": [
        "def drawHistogram():\n",
        "  plt.hist(task2Data, density = True, edgecolor = \"black\", color = \"green\", bins = int(math.log2(n2) + 1))\n",
        "  plt.show()"
      ],
      "metadata": {
        "id": "rmytweBrnxJd"
      },
      "execution_count": 15,
      "outputs": []
    },
    {
      "cell_type": "markdown",
      "source": [
        "##$\\text{b) Kolmogorov criterion;}$"
      ],
      "metadata": {
        "id": "d5exYoajQk7Z"
      }
    },
    {
      "cell_type": "markdown",
      "source": [
        "$$№2$$\n",
        "$$$$\n",
        "$$\\vec{X} \\sim U_{[0,1]}, \\space\\space H_o = \\{U_{[0, 1]}\\} \\space (\\text{simple hypothesis})$$\n",
        "\n",
        "$\\text{b) Kolmogorov distance:}$\n",
        "\n",
        "$$d(F_n^*(t), F_o(t)) = \\underset{t \\in \\mathbb{R}}{sup}|F_n^*(t) - F_o(t)|$$\n",
        "\n",
        "$\\text{Kolmogorov's criterion:}$\n",
        "\n",
        "$$P(\\sqrt{n}\\space d < c) \\simeq K(c) = 1 - \\varepsilon, \\space\\space c > 0$$\n",
        "\n",
        "$$\\delta = \n",
        "\\begin{cases}\n",
        "  0, \\sqrt{n}\\space d < c\\\\\n",
        "  1, \\sqrt{n}\\space d \\geq c\n",
        "\\end{cases}, \\space\\space K(c) = 1 - \\varepsilon$$"
      ],
      "metadata": {
        "id": "8TE0B76ibqU7"
      }
    },
    {
      "cell_type": "code",
      "source": [
        "def indicator(number, t):\n",
        "  return number < t"
      ],
      "metadata": {
        "id": "rSElzA_B_9cs"
      },
      "execution_count": 16,
      "outputs": []
    },
    {
      "cell_type": "code",
      "source": [
        "def empiricalFunc(t):\n",
        "  sum = 0\n",
        "  for number in task2Data:\n",
        "    sum += indicator(number, t)\n",
        "  return sum / n2"
      ],
      "metadata": {
        "id": "MTVYjMs9AVya"
      },
      "execution_count": 17,
      "outputs": []
    },
    {
      "cell_type": "code",
      "source": [
        "def drawKolmogorovCriterion():\n",
        "  sns.ecdfplot(data = task2Data, c = \"green\")\n",
        "  x = [0, 1]\n",
        "  y = [0, 1]\n",
        "  temp_df = pd.DataFrame(x, y)\n",
        "  sns.lineplot(data = temp_df)\n",
        "  plt.show()"
      ],
      "metadata": {
        "id": "z0CLAM6KlGOj"
      },
      "execution_count": 18,
      "outputs": []
    },
    {
      "cell_type": "code",
      "source": [
        "def kolmogorovCriterion():\n",
        "  x = np.linspace(0, 1, 10000)\n",
        "  y = lambda x: empiricalFunc(x)\n",
        "  z = lambda x: x\n",
        "\n",
        "  point = 0\n",
        "  d = 0\n",
        "\n",
        "  for t in task2Data:\n",
        "    if (d < abs(y(t) - z(t))):\n",
        "      d = abs(y(t) - z(t))\n",
        "      point = t \n",
        "  print(\"Kolmogorov distance : \", round(d, 3))\n",
        "  print(\"Point : \", round(point, 3))\n",
        "\n",
        "  c = klm.ppf(1 - epsilon)\n",
        "  if (math.sqrt(n2) * d < c):\n",
        "    print(\"The hypothesis is correct!\")\n",
        "  else:\n",
        "    print(\"The hypothesis is incorrect!\")"
      ],
      "metadata": {
        "id": "Htbl1vLrK0Ub"
      },
      "execution_count": 19,
      "outputs": []
    },
    {
      "cell_type": "markdown",
      "source": [
        "##$\\text{c)} \\space \\chi^2 \\space \\text{criterion;}$ "
      ],
      "metadata": {
        "id": "gkr9M3jyQv_e"
      }
    },
    {
      "cell_type": "markdown",
      "source": [
        "$$№2$$\n",
        "$$\\vec{X} \\sim U_{[0, 1]},\\space H_o = {\\{U_{[0, 1]}\\}}\\space\\text{(simple hypotesis)}$$\n",
        "$\\text{c)}\\space\\chi^2 \\space \\text{distance:}$\n",
        "\n",
        "$$d(F_n^*, F_o) = \\sum_\\limits{j = 1}^k \\frac{(\\nu_j - np_j)^2}{np_j},$$ \n",
        "\n",
        "$$\\nu_j = \\sum_\\limits{i = 1}^nI(X_i \\in \\Delta_j),$$\n",
        "\n",
        "$$(\\Delta_1,\\space\\cdots\\space,\\Delta_k),\\space \\Delta_j = [t_j\\space;\\space t_{j + 1})$$\n",
        "\n",
        "$$p_j = P_{H_o}(X_i \\in \\Delta_j) = F_o(t_{j+1}) - F_o(t_j),$$\n",
        "\n",
        "$\\chi^2 \\space \\text{criterion:}$\n",
        "\n",
        "$$\\delta = \n",
        "\\begin{cases}\n",
        "  0, d(F_n^*, F_o) < c\\\\\n",
        "  1, d(F_n^*, F_o) \\geq c\n",
        "\\end{cases}, \\space\\space \\chi_{k - 1}^2(c) = 1 - \\varepsilon$$"
      ],
      "metadata": {
        "id": "vY6CUPmAgTs4"
      }
    },
    {
      "cell_type": "code",
      "source": [
        "def chiSquareCriterion():\n",
        "  k = 5\n",
        "  delta = [0, 0.2, 0.4, 0.6, 0.8, 1]\n",
        "  p = [0.2, 0.2, 0.2, 0.2, 0.2]\n",
        "  c = chi2.ppf(1 - epsilon, k - 1)\n",
        "  nu = [0, 0, 0, 0, 0]\n",
        "  for j in range(k):\n",
        "    for number in task2Data:\n",
        "      if (number > delta[j] and number < delta[j + 1]):\n",
        "        nu[j] += 1\n",
        "\n",
        "  d = 0\n",
        "  for j in range(k):\n",
        "    d += ((nu[j] - n2 * p[j]) ** 2) / (n2 * p[j])\n",
        "  \n",
        "  print(\"'Chi-square' distance = \", round(d, 3))\n",
        "\n",
        "  if (d < c):\n",
        "    print(\"The hypothesis is correct!\")\n",
        "  else:\n",
        "    print(\"The hypothesis is incorrect!\")\n"
      ],
      "metadata": {
        "id": "Qk36LMr7Gr7A"
      },
      "execution_count": 20,
      "outputs": []
    },
    {
      "cell_type": "markdown",
      "source": [
        "#$\\text{Third:}$"
      ],
      "metadata": {
        "id": "AOXM9W6WBmYC"
      }
    },
    {
      "cell_type": "code",
      "source": [
        "from scipy.stats.distributions import f"
      ],
      "metadata": {
        "id": "dzQDmDAcTdgB"
      },
      "execution_count": 21,
      "outputs": []
    },
    {
      "cell_type": "code",
      "source": [
        "task3_1Data = [-1.135, -0.592, -0.766, -1.177, -0.735, -1.717, 0.336, -1.140, -0.155, -2.048,\n",
        "               -1.137, -2.147, -0.313, -0.056, -0.286, -0.829, -0.290, -0.639, -1.397, 0.362]\n",
        "\n",
        "task3_2Data = [-0.393, -1.347, -0.185, -0.715, -1.846, -0.038, -1.242, -0.387, -0.669, -0.997,\n",
        "               -2.424, -1.103, -0.843, -0.552, -1.283, -1.026, -1.448, -0.231, -0.267, -0.769,\n",
        "               -0.341, -1.874, -1.213, -2.168, -2.116, -0.886, -1.061, -0.937, 0.576, -0.636]\n",
        "               \n",
        "n3_1 = len(task3_1Data)\n",
        "n3_2 = len(task3_2Data)"
      ],
      "metadata": {
        "id": "ZoTU_P-0Rvls"
      },
      "execution_count": 22,
      "outputs": []
    },
    {
      "cell_type": "markdown",
      "source": [
        "##$\\text{a) Testing the hypothesis of matching variances (Fisher's criterion);}$"
      ],
      "metadata": {
        "id": "eTr775f2RTWY"
      }
    },
    {
      "cell_type": "markdown",
      "source": [
        "$$№3$$\n",
        "$$$$\n",
        "$$\\text{a)} \\space \\left. \\begin{gathered}\n",
        "  \\vec{X} \\sim N_{\\alpha_1, \\sigma_1^2}\\\\\n",
        "  \\vec{Y} \\sim N_{\\alpha_2, \\sigma_2^2}\n",
        "\\end{gathered}\\right\\} \\space \\text{Independet}$$\n",
        "\n",
        "$$H_o = \\{\\sigma_1^2 = \\sigma_2^2\\}$$\n",
        "\n",
        "$\\text{Fisher's criterion:}$\n",
        "\n",
        "$$\\begin{cases}\n",
        "  \\frac{nS^2(\\vec{X})}{\\sigma_1^2} \\sim \\chi_{n - 1}^2\\\\\n",
        "  \\frac{nS^2(\\vec{Y})}{\\sigma_2^2} \\sim \\chi_{m - 1}^2\n",
        "\\end{cases} \\Longrightarrow\n",
        "\\frac{\\frac{nS^2(\\vec{X})}{\\sigma_1^2(n - 1)}}{\\frac{mS^2(\\vec{Y})}{\\sigma_2^2(m - 1)}} = \\frac{S_0^2(\\vec{X}) \\sigma_2^2}{S_0^2(\\vec{Y})\\sigma_1^2} \\sim F_{n - 1, m - 1}$$\n",
        "\n",
        "$\\text{Empirical significance of the Fisher criterion:}$\n",
        "\n",
        "$$d = \\frac{S_0^2(\\vec{X})}{S_0^2(\\vec{Y})} \\space \\stackrel{H_o}{\\sim} \\space F_{n - 1, m - 1}$$\n",
        "$$$$\n",
        "$$\\delta = \n",
        "\\begin{cases}\n",
        "  0, \\space f_1 < \\frac{S_0^2(\\vec{X})}{S_0^2(\\vec{Y})} < f_2\\\\\n",
        "  1, \\space otherwise\n",
        "\\end{cases}$$\n",
        "$$$$\n",
        "$$\\begin{cases}\n",
        "  F_{n - 1, n - 2}(f_1) = \\frac{\\varepsilon}{2}\\\\\n",
        "  F_{n - 1, n - 2}(f_2) = 1 - \\frac{\\varepsilon}{2}\n",
        "\\end{cases}$$"
      ],
      "metadata": {
        "id": "Perv33W2nTL8"
      }
    },
    {
      "cell_type": "code",
      "source": [
        "def varianceHypothesis():\n",
        "  f1 = f.ppf(epsilon / 2, n3_1 - 1, n3_2 - 1)\n",
        "  f2 = f.ppf(1 - epsilon / 2, n3_1 - 1, n3_2 - 1)\n",
        "  print(epsilon)\n",
        "  sampleMean1 = 0\n",
        "  sampleMean2 = 0\n",
        "\n",
        "  unbiasedSampleVariace1 = 0\n",
        "  unbiasedSampleVariace2 = 0\n",
        "  for number in task3_1Data:\n",
        "    sampleMean1 += number / n3_1\n",
        "\n",
        "  for number in task3_2Data:\n",
        "    sampleMean2 += number / n3_2\n",
        "\n",
        "  for number in task3_1Data:\n",
        "    unbiasedSampleVariace1 += (number - sampleMean1) ** 2 / (n3_1 - 1)\n",
        "\n",
        "  for number in task3_2Data:\n",
        "    unbiasedSampleVariace2 += (number - sampleMean2) ** 2 / (n3_2 - 1)\n",
        "\n",
        "    d = unbiasedSampleVariace1 / unbiasedSampleVariace2\n",
        "\n",
        "  print(\"Empirical significance of the Fisher criterion = \", round(d, 3))\n",
        "\n",
        "  if (f1 < d < f2):\n",
        "    print(\"The variances are equal!\")\n",
        "  else:\n",
        "    print(\"The variances are not equal!\")\n"
      ],
      "metadata": {
        "id": "cFzd2Df8Q4Jx"
      },
      "execution_count": 23,
      "outputs": []
    },
    {
      "cell_type": "markdown",
      "source": [
        "##$\\text{b) Testing the hypothesis of the coincidence of mathematical expectations with the same variances (Student's criterion):}$"
      ],
      "metadata": {
        "id": "8cmoEZzIRmH5"
      }
    },
    {
      "cell_type": "markdown",
      "source": [
        "$$№3$$\n",
        "$$$$\n",
        "$$H_o = \\{{\\alpha_1 = \\alpha_2\\}}$$\n",
        "$$\\text{b)  Independet} \\space\n",
        "\\begin{cases}\n",
        "  \\frac{nS^2(\\vec{X})}{\\sigma_1^2} \\sim \\chi_{n - 1}^2\\\\\n",
        "  \\frac{nS^2(\\vec{Y})}{\\sigma_2^2} \\sim \\chi_{m - 1}^2\n",
        "\\end{cases} \\underset{\\text{stable by} \\sum}{\\Longrightarrow} \\frac{nS^2(\\vec{X}) + mS^2(\\vec{Y})}{(\\sigma_1 = \\sigma_2)^2} \\sim \\chi_{m + n - 2}^2$$\n",
        "\n",
        "$$\\overline{X} - \\overline{Y} \\sim N_{\\alpha_1 - \\alpha_2, \\frac{\\sigma^2}{n} + \\frac{\\sigma^2}{m}}$$\n",
        "\n",
        "$$E(\\overline{X} - \\overline{Y}) = E(X_1) - E(Y_1) = \\alpha_1 - \\alpha_2$$\n",
        "\n",
        "$$D(\\overline{X} - \\overline{Y}) \\stackrel{independet}{=} D\\overline{X} + D\\overline{Y} = \\frac{DX_1}{n} + \\frac{DY_1}{m}$$\n",
        "$$$$\n",
        "$\\text{Student's criterion:}$\n",
        "$$$$\n",
        "$$\\frac{\\frac{(\\overline{X} - \\overline{Y}) - (\\alpha_1 - \\alpha_2)}{\\sqrt{\\frac{\\sigma^2}{n} + \\frac{\\sigma^2}{n}}}}{\\sqrt{\\frac{nS^2(\\vec{X}) + mS^2(\\vec{Y})}{\\sigma^2(m + n - 2)}}} = \\frac{\\big((\\overline{X} - \\overline{Y}) - (\\alpha_1 - \\alpha_2)\\big) \\sqrt{(m + n - 2)mn}}{\\sqrt{\\big(nS^2(\\vec{X} + mS^2(\\vec{Y})\\big)(n + m)}} \\sim T_{n + m - 2}$$\n",
        "\n",
        "$$d = \\frac{\\big((\\overline{X} - \\overline{Y}) - (\\alpha_1 - \\alpha_2)\\big)\\sqrt{(m + n - 2)mn}}{\\sqrt{\\big(nS^2(\\vec{X}) + mS^2(\\vec{Y}) \\big) (n + m)}} \\space\\stackrel{H_o}{=}\\space \n",
        "\\frac{(\\overline{X} - \\overline{Y}) \\sqrt{(m + n - 2)mn}}{\\sqrt{\\big(nS^2(\\vec{X}) + mS^2(\\vec{Y}) \\big) (n + m)}} \\sim T_{n + m - 2}$$\n",
        "\n",
        "$$\\delta = \n",
        "\\begin{cases}\n",
        "  0, |d| < t_{1 - \\frac{\\varepsilon}{2}}\\\\\n",
        "  1, otherwise\n",
        "\\end{cases},\\space T_{m + n - 2}(t_{1 - \\frac{\\varepsilon}{2}}) = 1 - \\frac{\\varepsilon}{2}$$"
      ],
      "metadata": {
        "id": "m8p7ixeRjnNI"
      }
    },
    {
      "cell_type": "code",
      "source": [
        "def mathExpectationHypothesis():\n",
        "  sampleMean1 = 0\n",
        "  sampleMean2 = 0\n",
        "\n",
        "  sampleVariace1 = 0\n",
        "  sampleVariace2 = 0\n",
        "\n",
        "  for number in task3_1Data:\n",
        "    sampleMean1 += number / n3_1\n",
        "\n",
        "  for number in task3_2Data:\n",
        "    sampleMean2 += number / n3_2\n",
        "\n",
        "  for number in task3_1Data:\n",
        "    sampleVariace1 += (number - sampleMean1) ** 2 / n3_1\n",
        "\n",
        "  for number in task3_2Data:\n",
        "    sampleVariace2 += (number - sampleMean2) ** 2 / n3_2\n",
        "\n",
        "  d = (sampleMean1 - sampleMean2) * math.sqrt((n3_1 + n3_2 - 2) * n3_1 * n3_2) / math.sqrt((n3_1 * sampleVariace1 + n3_2 * sampleVariace2) * (n3_1 + n3_2))\n",
        "  c = t.ppf(1 - epsilon / 2, n3_1 + n3_2 - 2)\n",
        "\n",
        "  print(\"d = \", round(d, 3))\n",
        "\n",
        "  if (abs(d) < c):\n",
        "    print(\"The mathematical expectation are equal!\")\n",
        "  else:\n",
        "    print(\"The mathematical expectation are not equal!\")"
      ],
      "metadata": {
        "id": "23XrlBW7BByv"
      },
      "execution_count": 32,
      "outputs": []
    },
    {
      "cell_type": "code",
      "source": [
        "from scipy.stats import norm\n",
        "from scipy.stats.distributions import chi2\n",
        "#chi2.ppf(0.005, df=49)\n",
        "#norm.ppf(0.995)\n",
        "#t.ppf(0.95, 49)\n",
        "#klm.ppf(0.95)\n",
        "chi2.ppf(0.95, 4)"
      ],
      "metadata": {
        "colab": {
          "base_uri": "https://localhost:8080/"
        },
        "id": "mlbkigOrophZ",
        "outputId": "889cb763-215b-4b09-fa44-26fd749390af"
      },
      "execution_count": 25,
      "outputs": [
        {
          "output_type": "execute_result",
          "data": {
            "text/plain": [
              "9.487729036781154"
            ]
          },
          "metadata": {},
          "execution_count": 25
        }
      ]
    },
    {
      "cell_type": "code",
      "source": [
        "print(\"Task #1\")\n",
        "print(\"====================\")\n",
        "print(\"A:\")\n",
        "buildConfidenceIntervalA()\n",
        "print(\"====================\")\n",
        "print(\"B:\")\n",
        "buildConfidenceIntervalB()\n",
        "print(\"====================\")\n",
        "print(\"C:\")\n",
        "buildConfidenceIntervalC()\n",
        "print(\"====================\")\n",
        "print(\"D:\")\n",
        "buildConfidenceIntervalD()\n",
        "print(\"====================\")\n",
        "\n"
      ],
      "metadata": {
        "colab": {
          "base_uri": "https://localhost:8080/"
        },
        "id": "9833o7fvD_fm",
        "outputId": "9a1233a3-7528-411a-80aa-8e12c285169e"
      },
      "execution_count": 26,
      "outputs": [
        {
          "output_type": "stream",
          "name": "stdout",
          "text": [
            "Task #1\n",
            "====================\n",
            "A:\n",
            "(-1.143 ; -0.628)\n",
            "(-1.082 ; -0.69)\n",
            "(-1.05 ; -0.721)\n",
            "====================\n",
            "B:\n",
            "(-1.147 ; -0.624)\n",
            "(-1.082 ; -0.69)\n",
            "(-1.049 ; -0.722)\n",
            "====================\n",
            "C:\n",
            "(0.302 ; 0.857)\n",
            "(0.336 ; 0.741)\n",
            "(0.355 ; 0.69)\n",
            "====================\n",
            "D:\n",
            "(0.298 ; 0.856)\n",
            "(0.332 ; 0.74)\n",
            "(0.352 ; 0.688)\n",
            "====================\n"
          ]
        }
      ]
    },
    {
      "cell_type": "code",
      "source": [
        "print(\"Task #2\")\n",
        "print(\"Empirical function:\")\n",
        "%matplotlib widget\n",
        "drawEmpiricalFunction()"
      ],
      "metadata": {
        "colab": {
          "base_uri": "https://localhost:8080/",
          "height": 412,
          "referenced_widgets": [
            "4be2f38fe453423cad794351b1abcee2",
            "f07cc2a4aef340e497faa885d4d24d65",
            "7f131f284596458c9136a7694bd99d96",
            "0a1d864dcde34bf6980ac98005f764c3"
          ]
        },
        "id": "H-_sMPfAjCEL",
        "outputId": "ab7d3d57-f90e-429e-ca15-b153105e3eeb"
      },
      "execution_count": 27,
      "outputs": [
        {
          "output_type": "stream",
          "name": "stdout",
          "text": [
            "Task #2\n",
            "Empirical function:\n"
          ]
        },
        {
          "output_type": "display_data",
          "data": {
            "text/plain": [
              "Canvas(toolbar=Toolbar(toolitems=[('Home', 'Reset original view', 'home', 'home'), ('Back', 'Back to previous …"
            ],
            "image/png": "[encoded data removed]",
            "text/html": [
              "\n",
              "            <div style=\"display: inline-block;\">\n",
              "                <div class=\"jupyter-widgets widget-label\" style=\"text-align: center;\">\n",
              "                    Figure\n",
              "                </div>\n",
              "                <img src='data:image/png;base64,iVBORw0KGgoAAAANSUhEUgAAAbAAAAEgCAYAAADVKCZpAAAAOXRFWHRTb2Z0d2FyZQBNYXRwbG90bGliIHZlcnNpb24zLjUuMiwgaHR0cHM6Ly9tYXRwbG90bGliLm9yZy8qNh9FAAAACXBIWXMAAAsTAAALEwEAmpwYAAATsElEQVR4nO3dfaxkd13H8feHllKFFggr1nR3S5UtsAIWem1RiLuGB9smbhNBbAG1pGHjQ5UIkhTRSqqJohETTBWvAuUhbXkSsokLVZG2SujDri2FLlmyVkq3YIqARSE8tH79Y+aW6XT37uztuXPmN/N+JZOdc+bMnO/+cnc/93fme85JVSFJUmse0XcBkiSthQEmSWqSASZJapIBJklqkgEmSWqSASZJapIBJklqkgEmSWqSASZJapIBJklqkgEmSWqSASZJapIBJklqkgEmSWqSASZJapIBJklqkgEmSWqSASZJapIBJklqkgEmSWqSASZJapIBJklqkgEmSWqSASZJapIBJklqkgEmSWqSASZJapIBJklqkgEmSWqSASZJalLvAZbk7UnuSfKZw7yeJG9JciDJbUmePe0aJUmzp/cAA64Azl7l9XOALcPHTuCvplCTJGnG9R5gVXU98NVVNjkPeFcN3AA8LskPTac6SdKs6j3AJnAycNfI8sHhOknSAju27wK6lGQng8OMPPrRjz7jqU99as8VSdJ07f/KfgCe8oSnrOn9e/fu/a+q+oEua1ovLQTY3cCmkeWNw3UPUVXLwDLA0tJS7dmzZ/2rk6QZsv2K7QBce+G1a3p/kju7q2Z9tXAIcRfwS8NuxOcA91bVl/ouSpLUr95nYEmuArYDG5IcBH4feCRAVb0V2A2cCxwAvgm8sp9KJUmzpPcAq6oLjvB6Ab8+pXIkSY1o4RCiJEkPYYBJ0pxY3rvMdXde13cZU2OASdKcuPLTVwLwsme8rOdKpsMAk6Q5su2Ubew8Y2ffZUyFASZJapIBJklqkgEmSWqSASZJalLvJzJLkia3vHf5gW7Dcbf+562cftLp0y2oR87AJKkhV376Sm79z1sP+drpJ52+MC304AxMkppz+kmnr/lq8/PEGZgkqUkGmCSpSQaYJKlJBpgkqUk2cUiae6u1nrdm0VrlV+MMTNLcW631vDWL1iq/GmdgkhaCrefzxxmYJKlJBpgkqUkGmCSpSQaYJKlJBpgkqUl2IUqaummfl+W5U/PJGZikqZv2eVmeOzWfnIFJ6oXnZenhcgYmSWqSASZJapIBJklqkgEmSWqSTRySpmK0dd62dnXBGZikqRhtnbetXV1wBiZpamydV5ecgUmSmjQTAZbk7CT7kxxIcskhXt+c5ONJbklyW5Jz+6hTkjQ7eg+wJMcAlwPnAFuBC5JsHdvsd4H3VdWzgPOBv5xulZKkWdN7gAFnAgeq6o6q+g5wNXDe2DYFnDh8/ljgi1OsT5I0g2ahieNk4K6R5YPAWWPbvBH4hyS/ATwaeMF0SpO0mqO5qryt8+raLMzAJnEBcEVVbQTOBd6d5CG1J9mZZE+SPV/+8penXqS0aI7mqvK2zqtrszADuxvYNLK8cbhu1EXA2QBV9ckkxwMbgHtGN6qqZWAZYGlpqdarYEnfY2u8+jILM7CbgS1JTk1yHIMmjV1j23wBeD5AkqcBxwNOsSRpgfUeYFV1H3AxcA3wWQbdhrcnuSzJjuFmrwVeleRTwFXAhVXlDEuSFtgsHEKkqnYDu8fWXTryfB/w3GnXJUmaXb3PwCRJWouZmIFJasN427yt8eqTMzBJExtvm7c1Xn1yBibpqNg2r1nhDEyS1CQDTJLUJANMktQkA0yS1CQDTJLUJLsQJT3gSLdH8bwvzRJnYJIecKTbo3jel2aJMzBJD+J5XmqFMzBJUpMMMElSkwwwSVKTDDBJUpMMMEnAoIX+ujuv67sMaWIGmCSAB87/sk1erTDAJD1g2ynb2HnGzr7LkCZigEmSmmSASZKaZIBJkppkgEmSmuS1EKUFNnr1ea80r9Y4A5MW2OjV573SvFrjDExacF59Xq1yBiZJapIBJklqkgEmSWqSASZJapJNHNKcG22VH2frvFrmDEyac6Ot8uNsnVfLnIFJC8BWec0jZ2CSpCYZYJKkJs1EgCU5O8n+JAeSXHKYbV6aZF+S25Mc+htpSdLC6P07sCTHAJcDLwQOAjcn2VVV+0a22QK8HnhuVX0tyRP7qVaSNCs6D7AkPwk8afSzq+pdq7zlTOBAVd0xfP/VwHnAvpFtXgVcXlVfG37ePR2XLUlqTKcBluTdwI8AtwL3D1cXsFqAnQzcNbJ8EDhrbJvThp//CeAY4I1V9dEOSpZmymrnbK2V53ppXnU9A1sCtlZVdfy5xwJbgO3ARuD6JM+oqv8e3SjJTmAnwObNmzsuQVp/K+dsdRk4nuuledV1gH0GOAn40lG8525g08jyxuG6UQeBG6vqu8B/JPkcg0C7eXSjqloGlgGWlpa6DlFpKjxnS5pM1wG2AdiX5Cbg2ysrq2rHKu+5GdiS5FQGwXU+MP7r4oeBC4B3JNnA4JDiHR3WLUlqTNcB9sajfUNV3ZfkYuAaBt9vvb2qbk9yGbCnqnYNX3tRkn0Mvlt7XVV9pcO6JUmN6TTAquq6JD8I/Phw1U2TdAxW1W5g99i6S0eeF/Ca4UOSpG5PZE7yUuAm4OeBlwI3JnlJl/uQJAm6P4T4BuDHV2ZdSX4A+CfgAx3vR2rOJC3ytrxLk+v6UlKPGDtk+JV12IfUpNVua7LClndpcl3PwD6a5BrgquHyLzD23Za0yGyRl7rTdRPH65K8GHjucNVyVX2oy31IkgTrcC3Eqvog8MGuP1eSpFGdBFiSf62q5yX5HwbXPnzgJQZd8Cd2sR9JklZ0EmBV9bzhnyd08XmSJB1J51ejr6pfPNI6qWvrcRX3rtkiL3Wr6xb3Hx1dSHIscEbH+5AeYpIW9b7ZIi91q6vvwF4P/A7wfUm+vrIa+A7Dq8NL680WdWmxdDIDq6o/Ah4LvKuqThw+TqiqJ1TV67vYhyRJozo7hFhV/8f3LuIrSdK66vo7sH9LYohJktZd1ycynwW8PMmdwDf43nlgz+x4P5KkBdd1gP1Mx58nAUduk7dFXVo8nR5CrKo7gccBPzt8PG64TnpYjtQmb4u6tHi6PpH51cCrgL8brnpPkuWq+osu96PFZJu8pFFdH0K8CDirqr4BkORNwCcBA0yS1KmuuxAD3D+yfP9wnSRJnep6BvYO4MYkH2IQXOcBb+t4H5IkdX5DyzcnuRZ4HoPbqryyqm7pch+SJEH3hxBXZOxPSZI61WmAJbkUeCfweGAD8I4kv9vlPrRYlvcus/2K7TN/pXlJ09f1d2AvB36sqr4FkOSPgVuBP+x4P1oQK+d/eZ6XpHFdB9gXgeOBbw2XHwXc3fE+tGA8/0vSoXQdYPcCtyf5RwZNHC8EbkryFoCq+s2O9ydJWlBdB9iHho8V13b8+ZIkAd230b8zyXHAacNV+6vqu13uQ5Ik6P5aiNsZdCF+nkEL/aYkv1xV13e5H0mSuj6E+GfAi6pqP0CS04CrgDM63o/m1PhtU7xNiqTD6fpE5keuhBdAVX0OeGTH+9AcG79tiu3zkg6n6xnY3iR/C7xnuPxyYE/H+9Ccs21e0iS6DrBfAX4dWGmX/xfgLzvehyRJ3R1CTHIM8KmqenNV/dzw8edV9e0J3nt2kv1JDiS5ZJXtXpykkix1VbckqU2dBVhV3Q/sT7L5aN43DL7LgXOArcAFSbYeYrsTgFcDN3ZQriSpcV0fQnw8gytx3AR8Y2VlVe1Y5T1nAgeq6g6AJFczuI/YvrHt/gB4E/C6TiuWJDWp6wD7vTW852TgrpHlg8BZoxskeTawqar+PokB1pDxtvgjsW1e0qQ6CbAkxzNo4Hgy8GngbVV1X0ef/QjgzcCFE2y7E9gJsHnzUR3J1DoZvZr8JGyblzSprmZg7wS+y6DrcOW7rFdP+N67gU0jyxt58BXsTwCeDlybBOAkYFeSHVX1oBb9qloGlgGWlpbq6P8aWg+2xUtaD10F2NaqegZAkrcBNx3Fe28GtiQ5lUFwnQ888Ct4Vd3L4OaYDD//WuC3x8NLkrRYuupCfOCCvUd76HC4/cXANcBngfdV1e1JLkuyWvOHJGmBdTUD+7EkXx8+D/B9w+UAVVUnrvbmqtoN7B5bd+lhtt3+8MuVJLWukwCrqmO6+BxJkibV9cV8JUmaCgNMktQkA0yS1CQDTJLUJANMktQkA0yS1CQDTJLUJANMktSkrm+nIj3oFireHkXSenEGps6t3EIFvD2KpPXjDEzrwluoSFpvzsAkSU0ywCRJTTLAJElNMsAkSU2yiUOdsHVe0rQ5A1MnbJ2XNG3OwNQZW+clTZMzMElSkwwwSVKTDDBJUpMMMElSk2zi0JrZOi+pT87AtGa2zkvqkzMwPSy2zkvqizMwSVKTDDBJUpMMMElSkwwwSVKTbOLQQ4y2x6/G1nlJfXIGpocYbY9fja3zkvrkDEyHZHu8pFnnDEyS1CQDTJLUpJkIsCRnJ9mf5ECSSw7x+muS7EtyW5KPJTmljzolSbOj9wBLcgxwOXAOsBW4IMnWsc1uAZaq6pnAB4A/mW6VkqRZ03uAAWcCB6rqjqr6DnA1cN7oBlX18ar65nDxBmDjlGuUJM2YWQiwk4G7RpYPDtcdzkXAR9a1ogW1vHeZ7Vdsn6iFXpL61lQbfZJXAEvAtsO8vhPYCbB58+YpVjYfVs7/8vwuSS2YhQC7G9g0srxxuO5BkrwAeAOwraq+fagPqqplYBlgaWmpui91/nn+l6RWzMIhxJuBLUlOTXIccD6wa3SDJM8C/hrYUVX39FCjJGnG9B5gVXUfcDFwDfBZ4H1VdXuSy5LsGG72p8BjgPcnuTXJrsN8nCRpQczCIUSqajewe2zdpSPPXzD1oiRJM633GZgkSWsxEzMw9WP8tineHkVSS5yBLbDx26bYPi+pJc7AFpxt85Ja5QxMktQkA0yS1CQDTJLUJANMktQkmzgaNd4Cvxa2zUtqmTOwRo23wK+FbfOSWuYMrGG2wEtaZM7AJElNMsAkSU0ywCRJTTLAJElNsomjRw+nFd4WeEmLzhlYjx5OK7wt8JIWnTOwntkKL0lr4wxMktQkA0yS1CQDTJLUJANMktQkA0yS1CS7EA+hi1uVTMJzuSRp7ZyBHUIXtyqZhOdySdLaOQM7DM/PkqTZ5gxMktQkA0yS1CQDTJLUJANMktQkA2zM8t5lrrvzur7LkCQdgQE2ZuX8L9vbJWm2GWCHsO2Ubew8Y2ffZUiSVmGASZKaNBMBluTsJPuTHEhyySFef1SS9w5fvzHJk3ooU5I0Q3oPsCTHAJcD5wBbgQuSbB3b7CLga1X1ZODPgTdNt0pJ0qzpPcCAM4EDVXVHVX0HuBo4b2yb84B3Dp9/AHh+kkyxRknSjJmFADsZuGtk+eBw3SG3qar7gHuBJ0ylOknSTJqri/km2QmstA/+b5L9wAbgv476s145VxO8NY3BnHEMHIMVjsPqY3DKNAt5OGYhwO4GNo0sbxyuO9Q2B5McCzwW+Mr4B1XVMrA8ui7Jnqpa6rTixjgGjgE4Bisch/kZg1k4hHgzsCXJqUmOA84Hdo1tswv45eHzlwD/XFU1xRolSTOm9xlYVd2X5GLgGuAY4O1VdXuSy4A9VbULeBvw7iQHgK8yCDlJ0gLrPcAAqmo3sHts3aUjz78F/PwaP375yJvMPcfAMQDHYIXjMCdjEI/ESZJaNAvfgUmSdNTmJsC8HNVEY/CaJPuS3JbkY0maaZed1JHGYGS7FyepJM13Yo2bZAySvHT4s3B7kiunXeN6m+DfwuYkH09yy/Dfw7l91Lmekrw9yT1JPnOY15PkLcMxui3Js6dd48NWVc0/GDR//Dvww8BxwKeArWPb/Brw1uHz84H39l13D2Pw08D3D5//6iKOwXC7E4DrgRuApb7r7uHnYAtwC/D44fIT+667hzFYBn51+Hwr8Pm+616Hcfgp4NnAZw7z+rnAR4AAzwFu7Lvmo33MywzMy1FNMAZV9fGq+uZw8QYG59zNk0l+DgD+gMH1NL81zeKmZJIxeBVweVV9DaCq7plyjettkjEo4MTh88cCX5xifVNRVdcz6No+nPOAd9XADcDjkvzQdKrrxrwEmJejmmwMRl3E4LeveXLEMRgeJtlUVX8/zcKmaJKfg9OA05J8IskNSc6eWnXTMckYvBF4RZKDDDqgf2M6pc2Uo/0/Y+bMRBu9pivJK4AlYFvftUxTkkcAbwYu7LmUvh3L4DDidgaz8OuTPKOq/rvPoqbsAuCKqvqzJD/B4DzTp1fV//VdmCY3LzOwo7kcFatdjqphk4wBSV4AvAHYUVXfnlJt03KkMTgBeDpwbZLPMzjuv2vOGjkm+Tk4COyqqu9W1X8An2MQaPNikjG4CHgfQFV9EjiewfUBF8lE/2fMsnkJMC9HNcEYJHkW8NcMwmvevveAI4xBVd1bVRuq6klV9SQG3wPuqKo9/ZS7Lib5t/BhBrMvkmxgcEjxjinWuN4mGYMvAM8HSPI0BgH25alW2b9dwC8NuxGfA9xbVV/qu6ijMReHEMvLUU06Bn8KPAZ4/7B/5QtVtaO3ojs24RjMtQnH4BrgRUn2AfcDr6uquTkaMeEYvBb4myS/xaCh48I5+4WWJFcx+EVlw/C7vt8HHglQVW9l8N3fucAB4JvAK/updO28EockqUnzcghRkrRgDDBJUpMMMElSkwwwSVKTDDBJUpMMMElSkwwwSVKTDDBJUpMMMElSkwwwSVKTDDBJUpMMMElSkwwwSVKTDDBJUpMMMElSkwwwSVKTDDBJUpMMMElSkwwwSVKTDDBJUpP+H0E7mtSeS9HHAAAAAElFTkSuQmCC' width=432.0/>\n",
              "            </div>\n",
              "        "
            ],
            "application/vnd.jupyter.widget-view+json": {
              "version_major": 2,
              "version_minor": 0,
              "model_id": "4be2f38fe453423cad794351b1abcee2"
            }
          },
          "metadata": {
            "application/vnd.jupyter.widget-view+json": {
              "colab": {
                "custom_widget_manager": {
                  "url": "https://ssl.gstatic.com/colaboratory-static/widgets/colab-cdn-widget-manager/a8874ba6619b6106/manager.min.js"
                }
              }
            }
          }
        }
      ]
    },
    {
      "cell_type": "code",
      "source": [
        "print(\"\\nHistogram:\")\n",
        "%matplotlib widget\n",
        "drawHistogram()"
      ],
      "metadata": {
        "colab": {
          "base_uri": "https://localhost:8080/",
          "height": 412,
          "referenced_widgets": [
            "f2077599de5b4b4a86aa5dacc05cbc74",
            "d823b27489904edbad75153d9e1a4de3",
            "5dac9d3632e74334a3e9f3984f88d688",
            "dda85b6b49e049e88d8df593e7b9c80c"
          ]
        },
        "id": "ozyfuSXdivO-",
        "outputId": "297242a8-a356-40f9-b426-2cce1284dffb"
      },
      "execution_count": 28,
      "outputs": [
        {
          "output_type": "stream",
          "name": "stdout",
          "text": [
            "\n",
            "Histogram:\n"
          ]
        },
        {
          "output_type": "display_data",
          "data": {
            "text/plain": [
              "Canvas(toolbar=Toolbar(toolitems=[('Home', 'Reset original view', 'home', 'home'), ('Back', 'Back to previous …"
            ],
            "image/png": "[encoded data removed]",
            "text/html": [
              "\n",
              "            <div style=\"display: inline-block;\">\n",
              "                <div class=\"jupyter-widgets widget-label\" style=\"text-align: center;\">\n",
              "                    Figure\n",
              "                </div>\n",
              "                <img src='data:image/png;base64,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' width=432.0/>\n",
              "            </div>\n",
              "        "
            ],
            "application/vnd.jupyter.widget-view+json": {
              "version_major": 2,
              "version_minor": 0,
              "model_id": "f2077599de5b4b4a86aa5dacc05cbc74"
            }
          },
          "metadata": {
            "application/vnd.jupyter.widget-view+json": {
              "colab": {
                "custom_widget_manager": {
                  "url": "https://ssl.gstatic.com/colaboratory-static/widgets/colab-cdn-widget-manager/a8874ba6619b6106/manager.min.js"
                }
              }
            }
          }
        }
      ]
    },
    {
      "cell_type": "code",
      "source": [
        "print(\"Kolmogorov's criterion graph:\")\n",
        "%matplotlib widget\n",
        "drawKolmogorovCriterion()"
      ],
      "metadata": {
        "colab": {
          "base_uri": "https://localhost:8080/",
          "height": 394,
          "referenced_widgets": [
            "c996677a829a46ecb4828753cab6ff56",
            "5474b713ab5847798e0e7623e82589df",
            "3ee0a58efdb64908b6aa098cc9a809b4",
            "9a4ae1e132e3425d86fde954eb5e1229",
            "4a5f7337517045a6bfa42b2988483619",
            "30de929a6b7b4a679e55cc1b20a690d8"
          ]
        },
        "id": "GXBy03qVhfr_",
        "outputId": "556b6180-ffa2-43c4-8799-d7191f4aebfd"
      },
      "execution_count": 29,
      "outputs": [
        {
          "output_type": "stream",
          "name": "stdout",
          "text": [
            "Kolmogorov's criterion graph:\n"
          ]
        },
        {
          "output_type": "display_data",
          "data": {
            "text/plain": [
              "Canvas(toolbar=Toolbar(toolitems=[('Home', 'Reset original view', 'home', 'home'), ('Back', 'Back to previous …"
            ],
            "image/png": "[encoded data removed]",
            "text/html": [
              "\n",
              "            <div style=\"display: inline-block;\">\n",
              "                <div class=\"jupyter-widgets widget-label\" style=\"text-align: center;\">\n",
              "                    Figure\n",
              "                </div>\n",
              "                <img src='data:image/png;base64,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' width=432.0/>\n",
              "            </div>\n",
              "        "
            ],
            "application/vnd.jupyter.widget-view+json": {
              "version_major": 2,
              "version_minor": 0,
              "model_id": "c996677a829a46ecb4828753cab6ff56"
            }
          },
          "metadata": {
            "application/vnd.jupyter.widget-view+json": {
              "colab": {
                "custom_widget_manager": {
                  "url": "https://ssl.gstatic.com/colaboratory-static/widgets/colab-cdn-widget-manager/a8874ba6619b6106/manager.min.js"
                }
              }
            }
          }
        }
      ]
    },
    {
      "cell_type": "code",
      "source": [
        "varianceHypothesis()"
      ],
      "metadata": {
        "colab": {
          "base_uri": "https://localhost:8080/"
        },
        "id": "Rug6LsYrfcSY",
        "outputId": "beddac24-d344-4f52-add5-82bf74175577"
      },
      "execution_count": 30,
      "outputs": [
        {
          "output_type": "stream",
          "name": "stdout",
          "text": [
            "0.05\n",
            "Empirical significance of the Fisher criterion =  1.07\n",
            "The variances are equal!\n"
          ]
        }
      ]
    },
    {
      "cell_type": "code",
      "source": [
        "mathExpectationHypothesis()"
      ],
      "metadata": {
        "colab": {
          "base_uri": "https://localhost:8080/"
        },
        "id": "2e-ZHHrWHdda",
        "outputId": "069f0be2-fbce-4adc-814c-3068c23861cd"
      },
      "execution_count": 33,
      "outputs": [
        {
          "output_type": "stream",
          "name": "stdout",
          "text": [
            "d =  0.771\n",
            "The mathematical expectation are equal!\n"
          ]
        }
      ]
    }
  ]
}