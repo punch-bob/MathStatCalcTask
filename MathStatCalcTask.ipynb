{
  "nbformat": 4,
  "nbformat_minor": 0,
  "metadata": {
    "colab": {
      "name": "MathStatCalcTask.ipynb",
      "provenance": [],
      "collapsed_sections": [],
      "authorship_tag": "ABX9TyMrf2o8DGJ/gLnJsgUKJvwF",
      "include_colab_link": true
    },
    "kernelspec": {
      "name": "python3",
      "display_name": "Python 3"
    },
    "language_info": {
      "name": "python"
    }
  },
  "cells": [
    {
      "cell_type": "markdown",
      "metadata": {
        "id": "view-in-github",
        "colab_type": "text"
      },
      "source": [
        "<a href=\"https://colab.research.google.com/github/punch-bob/MathStatCalcTask/blob/main/MathStatCalcTask.ipynb\" target=\"_parent\"><img src=\"https://colab.research.google.com/assets/colab-badge.svg\" alt=\"Open In Colab\"/></a>"
      ]
    },
    {
      "cell_type": "code",
      "execution_count": 90,
      "metadata": {
        "id": "R76YbRnY-MvS"
      },
      "outputs": [],
      "source": [
        "import math"
      ]
    },
    {
      "cell_type": "code",
      "source": [
        "task1Data = [-1.135, -0.592, -0.766, -1.177, -0.735, -1.717, 0.336, -1.140, -0.155, -2.048,\n",
        "        -1.137, -2.147, -0.313, -0.056, -0.286, -0.829, -0.290, -0.639, -1.397, 0.362,\n",
        "        -0.393, -1.347, -0.185, -0.715, -1.846, -0.038, -1.242, -0.387, -0.669, -0.997,\n",
        "        -2.424, -1.103, -0.843, -0.552, -1.283, -1.026, -1.448, -0.231, -0.267, -0.769,\n",
        "        -0.341, -1.874, -1.213, -2.168, -2.116, -0.886, -1.061, -0.937, 0.576, -0.636]\n",
        "n1 = len(task1Data)\n",
        "sigma = 0.5\n",
        "alpha = -1"
      ],
      "metadata": {
        "id": "edWpFA5m-Wp5"
      },
      "execution_count": 91,
      "outputs": []
    },
    {
      "cell_type": "code",
      "source": [
        "def printTaskNumber(n):\n",
        "  print(\"Task #\", n)"
      ],
      "metadata": {
        "id": "Mr57t0yN-otL"
      },
      "execution_count": 92,
      "outputs": []
    },
    {
      "cell_type": "code",
      "source": [
        "def getSampleMean():\n",
        "  sampleMean = 0\n",
        "  for number in task1Data:\n",
        "    sampleMean += number\n",
        "  return sampleMean / n1"
      ],
      "metadata": {
        "id": "flonRQ8Q_mHq"
      },
      "execution_count": 93,
      "outputs": []
    },
    {
      "cell_type": "code",
      "source": [
        "def getSampleVariance(mathExpectation):\n",
        "  sampleVarience = 0\n",
        "  for number in task1Data:\n",
        "    sampleVarience += (number - mathExpectation)**2\n",
        "  return sampleVarience / n1"
      ],
      "metadata": {
        "id": "DSC1DbQcAktO"
      },
      "execution_count": 94,
      "outputs": []
    },
    {
      "cell_type": "code",
      "source": [
        "def getUnbiasedSampleVariance(mathExpectation):\n",
        "  sampleVariance = getSampleVariance(mathExpectation)\n",
        "  return sampleVariance * n1 / (n1 - 1)"
      ],
      "metadata": {
        "id": "YPu2CQNCBtq5"
      },
      "execution_count": 95,
      "outputs": []
    },
    {
      "cell_type": "markdown",
      "source": [
        "$$№1$$\n",
        "$$\\vec{X} \\sim N_{\\alpha, \\sigma^2}$$\n",
        "$\\text{a) }\\overline{X} \\sim N_{\\alpha, \\frac{\\sigma^2}{n}}$\n",
        "\n",
        "$G(\\overline{X}, \\alpha) = \\frac{\\overline{X} - \\alpha}{\\sqrt{\\frac{\\sigma^2}{n}}} \\sim N_{0, 1} \\text{ (Theorem on the properties of normal samples)}$\n",
        "\n",
        "$P(\\alpha^{-} \\leq \\sqrt{n}\\frac{(\\overline{X} - \\alpha)}{\\sigma} \\leq \\alpha^{+}) = 1 - \\varepsilon$\n",
        "\n",
        "\\begin{cases}\n",
        "    \\phi_{0,1}(\\alpha^{-}) = \\frac{\\varepsilon}{2}\\\\\n",
        "    \\phi_{0,1}(\\alpha^{+}) = 1 - \\frac{\\varepsilon}{2}\n",
        "\\end{cases}\n",
        "\n",
        "\\begin{cases}\n",
        "    \\alpha^{-} = -\\tau_{1 - \\frac{\\varepsilon}{2}}\\\\\n",
        "    \\alpha^{+} = \\tau_{1 - \\frac{\\varepsilon}{2}}\n",
        "\\end{cases}\n",
        "\n",
        "$P(-\\tau_{1 - \\frac{\\varepsilon}{2}} \\leq \\sqrt{n}\\frac{(\\overline{X} - \\alpha)}{\\sigma} \\leq \\tau_{1 - \\frac{\\varepsilon}{2}}) = 1 - \\varepsilon$\n",
        "\n",
        "$P(\\overline{X} - \\frac{\\sigma\\tau_{1 - \\frac{\\varepsilon}{2}}}{\\sqrt{n}} \\leq \\alpha \\leq \\overline{X} + \\frac{\\sigma\\tau_{1 - \\frac{\\varepsilon}{2}}}{\\sqrt{n}}) = 1 - \\varepsilon$\n",
        "\n",
        "$\\text{Confidence interval for }\\alpha\\text{, with a known } \\sigma^2:$\n",
        "\n",
        "$$(\\overline{X} - \\frac{\\sigma\\tau_{1 - \\frac{\\varepsilon}{2}}}{\\sqrt{n}};\\overline{X} + \\frac{\\sigma\\tau_{1 - \\frac{\\varepsilon}{2}}}{\\sqrt{n}})$$\n",
        "\n"
      ],
      "metadata": {
        "id": "2R3VH1c6PqEg"
      }
    },
    {
      "cell_type": "code",
      "source": [
        "def buildConfidenceIntervalA():\n",
        "  sampleMean = getSampleMean()\n",
        "  alphaPlusArray = [2.575, 1.96, 1.645]\n",
        "  \n",
        "  for alphaPlus in alphaPlusArray:\n",
        "    leftBorder = sampleMean - math.sqrt(sigma) * alphaPlus / math.sqrt(n1)\n",
        "    rightBorder = sampleMean + math.sqrt(sigma) * alphaPlus / math.sqrt(n1)\n",
        "    print(\"(\", round(leftBorder, 3), \";\", round(rightBorder, 3), \")\")"
      ],
      "metadata": {
        "id": "D-ZIT-QICUWE"
      },
      "execution_count": 96,
      "outputs": []
    },
    {
      "cell_type": "markdown",
      "source": [
        "$$№1$$\n",
        "$$\\vec{X} \\sim N_{\\alpha, \\sigma^2}$$\n",
        "\n",
        "$\\text{b) }\\overline{X} \\sim N_{\\alpha, \\frac{\\sigma^2}{n}}$\n",
        "\n",
        "$G(\\overline{X}, \\alpha) = \\frac{(\\overline{X} - \\alpha)\\sqrt{n}}{S_0} \\sim T_{n - 1}\\text{ (Theorem on the properties of normal samples),   }S_0 = \\sqrt{S_0^2}$\n",
        "\n",
        "\\begin{cases}\n",
        "    T_{n - 1}(\\alpha^{-}) = \\frac{\\varepsilon}{2}\\\\\n",
        "    T_{n - 1}(\\alpha^{+}) = 1 - \\frac{\\varepsilon}{2}\n",
        "\\end{cases}\n",
        "$$\\alpha^{+} = - \\alpha^{-}$$\n",
        "\n",
        "$P(-\\alpha^{+} \\leq \\frac{(\\overline{X} - \\alpha)\\sqrt{n}}{S_0} \\leq \\alpha^{+}) = 1 - \\varepsilon$\n",
        "\n",
        "$P(\\overline{X} - \\frac{\\alpha^{+} S_0}{\\sqrt{n}} \\leq \\alpha \\leq \\overline{X} + \\frac{\\alpha^{+} S_0}{\\sqrt{n}}) = 1 - \\varepsilon$\n",
        "\n",
        "$\\text{Confidence interval for }\\alpha\\text{, with a unknown } \\sigma^2:$\n",
        "\n",
        "$$(\\overline{X} - \\frac{\\alpha^{+} S_0}{\\sqrt{n}};\\overline{X} + \\frac{\\alpha^{+} S_0}{\\sqrt{n}})$$"
      ],
      "metadata": {
        "id": "u3ryo0XqU76x"
      }
    },
    {
      "cell_type": "code",
      "source": [
        "def buildConfidenceIntervalB():\n",
        "  sampleMean = getSampleMean()\n",
        "  unbiasedSampleVariance = getUnbiasedSampleVariance(sampleMean)\n",
        "  alphaPlusArray = [2.939, 2.312, 2.009]\n",
        "  for alphaPlus in alphaPlusArray:\n",
        "    leftBorder = sampleMean - alphaPlus * math.sqrt(unbiasedSampleVariance) / math.sqrt(n1)\n",
        "    rightBorder = sampleMean + alphaPlus * math.sqrt(unbiasedSampleVariance) / math.sqrt(n1)\n",
        "    print(\"(\", round(leftBorder, 3), \";\", round(rightBorder, 3), \")\")"
      ],
      "metadata": {
        "id": "qywezZ1xEVdt"
      },
      "execution_count": 97,
      "outputs": []
    },
    {
      "cell_type": "markdown",
      "source": [
        "$$№1$$\n",
        "$$\\vec{X} \\sim N_{\\alpha, \\sigma^2}$$\n",
        "\n",
        "$\\text{c) }S^2 = \\frac{1}{n}\\sum \\limits_{i = 1}^n (X_i - \\alpha)^2$\n",
        "\n",
        "$G(S^2, \\sigma^2) = \\frac{nS^2}{\\sigma^2} \\sim \\chi_{n-1}^2 \\text{ (Theorem on the properties of normal samples)}$\n",
        "\n",
        "$P(\\alpha^{-} \\leq \\frac{nS^2}{\\sigma^2} \\leq \\alpha^{+}) = 1 - \\varepsilon$\n",
        "\n",
        "\\begin{cases}\n",
        "    \\chi_{n - 1}^2(\\alpha^{-}) = \\frac{\\varepsilon}{2}\\\\\n",
        "    \\chi_{n - 1}^2(\\alpha^{+}) = 1 - \\frac{\\varepsilon}{2}\n",
        "\\end{cases}\n",
        "\n",
        "$P(\\frac{nS^2}{\\alpha^{+}} \\leq \\sigma^2 \\leq \\frac{nS^2}{\\alpha^{-}}) = 1 - \\varepsilon$\n",
        "\n",
        "$\\text{Confidence interval for }\\sigma^2\\text{, with a known } \\alpha:$\n",
        "\n",
        "$$(\\frac{nS^2}{\\alpha^{+}};\\frac{nS^2}{\\alpha^{-}})$$"
      ],
      "metadata": {
        "id": "5_0VCErCVuSD"
      }
    },
    {
      "cell_type": "code",
      "source": [
        "def buildConfidenceIntervalC():\n",
        "  sampleVariance = getSampleVariance(alpha)\n",
        "  alphaPlusArray = [78.231, 70.222, 66.339]\n",
        "  alphaMinusArray = [27.249, 31.555, 33.93]\n",
        "  for i in range(3):\n",
        "    leftBorder = n1 * sampleVariance / alphaPlusArray[i]\n",
        "    rightBorder = n1 * sampleVariance / alphaMinusArray[i]\n",
        "    print(\"(\", round(leftBorder, 3), \";\", round(rightBorder, 3), \")\")"
      ],
      "metadata": {
        "id": "8gfJ0dsyJVgz"
      },
      "execution_count": 98,
      "outputs": []
    },
    {
      "cell_type": "markdown",
      "source": [
        "$$№1$$\n",
        "$$\\vec{X} \\sim N_{\\alpha, \\sigma^2}$$\n",
        "$\\text{d) }S^2 = \\frac{1}{n}\\sum \\limits_{i = 1}^n (X_i - \\overline{X})^2$\n",
        "\n",
        "$G(S^2, \\sigma^2) = \\frac{nS^2}{\\sigma^2} \\sim \\chi_{n-1}^2 \\text{ (Theorem on the properties of normal samples)}$\n",
        "\n",
        "$P(\\alpha^{-} \\leq \\frac{nS^2}{\\sigma^2} \\leq \\alpha^{+}) = 1 - \\varepsilon$\n",
        "\n",
        "\\begin{cases}\n",
        "    \\chi_{n - 1}^2(\\alpha^{-}) = \\frac{\\varepsilon}{2}\\\\\n",
        "    \\chi_{n - 1}^2(\\alpha^{+}) = 1 - \\frac{\\varepsilon}{2}\n",
        "\\end{cases}\n",
        "\n",
        "$P(\\frac{nS^2}{\\alpha^{+}} \\leq \\sigma^2 \\leq \\frac{nS^2}{\\alpha^{-}}) = 1 - \\varepsilon$\n",
        "\n",
        "$\\text{Confidence interval for }\\sigma^2\\text{, with a unknown } \\alpha:$\n",
        "\n",
        "$$(\\frac{nS^2}{\\alpha^{+}};\\frac{nS^2}{\\alpha^{-}})$$"
      ],
      "metadata": {
        "id": "hOPvpThvWbIt"
      }
    },
    {
      "cell_type": "code",
      "source": [
        "def buildConfidenceIntervalD():\n",
        "  sampleMean = getSampleMean()\n",
        "  sampleVariance = getSampleVariance(sampleMean)\n",
        "  alphaPlusArray = [78.231, 70.222, 66.339]\n",
        "  alphaMinusArray = [27.249, 31.555, 33.93]\n",
        "  for i in range(3):\n",
        "    leftBorder = n1 * sampleVariance / alphaPlusArray[i]\n",
        "    rightBorder = n1 * sampleVariance / alphaMinusArray[i]\n",
        "    print(\"(\", round(leftBorder, 3), \";\", round(rightBorder, 3), \")\")"
      ],
      "metadata": {
        "id": "pKFgoUeoNrAV"
      },
      "execution_count": 99,
      "outputs": []
    },
    {
      "cell_type": "code",
      "source": [
        "import matplotlib.pyplot as plt\n",
        "import pandas as pd\n",
        "import seaborn as sns\n",
        "import numpy as np"
      ],
      "metadata": {
        "id": "8d2V_X3xb6MB"
      },
      "execution_count": 100,
      "outputs": []
    },
    {
      "cell_type": "code",
      "source": [
        "task2Data = [0.041, 0.234, 0.279, 0.654, 0.297, 0.667, 0.044, 0.701, 0.710, 0.952,\n",
        "             0.298, 0.795, 0.618, 0.377, 0.222, 0.269, 0.626, 0.348, 0.503, 0.630,\n",
        "             0.335, 0.975, 0.973, 0.169, 0.596, 0.288, 0.353, 0.124, 0.530, 0.239]\n",
        "a = 0\n",
        "b = 1\n",
        "n2 = len(task2Data)"
      ],
      "metadata": {
        "id": "9QRdP47ZZ-r1"
      },
      "execution_count": 101,
      "outputs": []
    },
    {
      "cell_type": "markdown",
      "source": [
        "$$№2$$\n",
        "$$\\vec{X} \\sim U_{[0,1]}$$\n",
        "\n",
        "$\\text{a) Empirical function:}$\n",
        "\n",
        "$$F_n^*(t) = \\frac{1}{n}\\sum \\limits_{i = 1}^nI(X_i < t),\\space\\space I(A) = \n",
        "\\begin{cases}\n",
        "  1, w \\in A\\\\\n",
        "  0, w \\notin A\n",
        "\\end{cases}$$"
      ],
      "metadata": {
        "id": "ZSKYDdDfk7l-"
      }
    },
    {
      "cell_type": "code",
      "source": [
        "def drawEmpiricalFunction():\n",
        "  sns.ecdfplot(data = task2Data, c = \"green\")\n",
        "  plt.show()"
      ],
      "metadata": {
        "id": "4k1mCyt_bpLf"
      },
      "execution_count": 102,
      "outputs": []
    },
    {
      "cell_type": "code",
      "source": [
        "def drawHistogram():\n",
        "  plt.hist(task2Data, density = True, edgecolor = \"black\", color = \"green\")\n",
        "  plt.show()"
      ],
      "metadata": {
        "id": "rmytweBrnxJd"
      },
      "execution_count": 103,
      "outputs": []
    },
    {
      "cell_type": "markdown",
      "source": [
        "$$№2$$\n",
        "$$\\vec{X} \\sim U_{[0,1]}, \\space\\space H_o = \\{U_{[0, 1]}\\} \\space (\\text{simple hypothesis})$$\n",
        "\n",
        "$\\text{b) Kolmogorov distance:}$\n",
        "\n",
        "$$d(F_n^*(t), F_o(t)) = \\underset{t \\in \\mathbb{R}}{sup}|F_n^*(t) - F_o(t)|$$\n",
        "\n",
        "$\\text{Kolmogorov's criterion:}$\n",
        "\n",
        "$$P(\\sqrt{n}\\space d < c) \\simeq K(c) = 1 - \\varepsilon, \\space\\space c > 0$$\n",
        "\n",
        "$$\\delta = \n",
        "\\begin{cases}\n",
        "  0, \\sqrt{n}\\space d < c\\\\\n",
        "  1, \\sqrt{n}\\space d \\geq c\n",
        "\\end{cases}, \\space\\space K(c) = 1 - \\varepsilon$$"
      ],
      "metadata": {
        "id": "8TE0B76ibqU7"
      }
    },
    {
      "cell_type": "code",
      "source": [
        "def drawKolmogorovCriterion():\n",
        "  sns.ecdfplot(data = task2Data, c = \"green\")\n",
        "  x = [0, 1]\n",
        "  y = [0, 1]\n",
        "  temp_df = pd.DataFrame(x, y)\n",
        "  sns.lineplot(data = temp_df)\n",
        "  plt.show()"
      ],
      "metadata": {
        "id": "z0CLAM6KlGOj"
      },
      "execution_count": 104,
      "outputs": []
    },
    {
      "cell_type": "code",
      "source": [
        "def indecator(number, t):\n",
        "  return number < t"
      ],
      "metadata": {
        "id": "8MzQ243wLx1U"
      },
      "execution_count": 105,
      "outputs": []
    },
    {
      "cell_type": "code",
      "source": [
        "def empiricalFunc(t):\n",
        "  sum = 0\n",
        "  for number in task2Data:\n",
        "    sum += indecator(number, t)\n",
        "\n",
        "  return sum / n2"
      ],
      "metadata": {
        "id": "kci0KMs6L2dl"
      },
      "execution_count": 106,
      "outputs": []
    },
    {
      "cell_type": "code",
      "source": [
        "def kolmogorovCriterion():\n",
        "  x = np.linspace(0, 1, 10000)\n",
        "  y = lambda x: empiricalFunc(x)\n",
        "  z = lambda x: x\n",
        "\n",
        "  point = 0\n",
        "  d = 0\n",
        "\n",
        "  for t in x:\n",
        "    if (d < abs(y(t) - z(t))):\n",
        "      d = abs(y(t) - z(t))\n",
        "      point = t \n",
        "  print(\"Kolmogorov distance : \", round(d, 3))\n",
        "  print(\"Point : \", round(point, 3))\n",
        "\n",
        "  c = 1.36\n",
        "  if (math.sqrt(n2) * d < c):\n",
        "    print(\"The hypothesis is correct!\")\n",
        "  else:\n",
        "    print(\"The hypothesis is incorrect!\")"
      ],
      "metadata": {
        "id": "Htbl1vLrK0Ub"
      },
      "execution_count": 107,
      "outputs": []
    },
    {
      "cell_type": "markdown",
      "source": [
        "$$№2$$\n",
        "\n",
        "$$\\vec{X} \\sim U_{[0, 1]}$$\n",
        "$b)\\space\\chi^2 \\space \\text{distance:}$\n",
        "\n",
        "$$d(F_n^*, F_o) = \\sum_\\limits{j = 1}^k \\frac{(\\nu_j - np_j)^2}{np_j},$$ \n",
        "\n",
        "$$\\nu_j = \\sum_\\limits{i = 1}^nI(X_i \\in \\Delta_j),$$\n",
        "\n",
        "$$(\\Delta_1,\\space\\cdots\\space,\\Delta_k),\\space \\Delta_j = [t_j\\space;\\space t_{j + 1})$$\n",
        "\n",
        "$$p_j = P_{H_o}(X_i \\in \\Delta_j) = F_o(t_{j+1}) - F_o(t_j),$$"
      ],
      "metadata": {
        "id": "vY6CUPmAgTs4"
      }
    },
    {
      "cell_type": "code",
      "source": [
        "print(\"Task #1\")\n",
        "print(\"====================\")\n",
        "print(\"A:\")\n",
        "buildConfidenceIntervalA()\n",
        "print(\"====================\")\n",
        "print(\"B:\")\n",
        "buildConfidenceIntervalB()\n",
        "print(\"====================\")\n",
        "print(\"C:\")\n",
        "buildConfidenceIntervalC()\n",
        "print(\"====================\")\n",
        "print(\"D:\")\n",
        "buildConfidenceIntervalD()\n",
        "print(\"====================\")\n",
        "print(\"\\nTask #2\")\n",
        "print(\"A:\")\n",
        "print(\"Empirical function:\")\n",
        "drawEmpiricalFunction()\n",
        "print(\"\\nHistogram:\")\n",
        "drawHistogram()\n",
        "print(\"\\nB:\")\n",
        "print(\"Kolmogorov's criterion graph:\")\n",
        "drawKolmogorovCriterion()\n",
        "kolmogorovCriterion()"
      ],
      "metadata": {
        "colab": {
          "base_uri": "https://localhost:8080/",
          "height": 1000
        },
        "id": "9833o7fvD_fm",
        "outputId": "a7fe40cf-9a74-490b-83b4-a2f552138321"
      },
      "execution_count": 108,
      "outputs": [
        {
          "output_type": "stream",
          "name": "stdout",
          "text": [
            "Task #1\n",
            "====================\n",
            "A:\n",
            "( -1.143 ; -0.628 )\n",
            "( -1.082 ; -0.69 )\n",
            "( -1.05 ; -0.721 )\n",
            "====================\n",
            "B:\n",
            "( -1.172 ; -0.599 )\n",
            "( -1.111 ; -0.66 )\n",
            "( -1.082 ; -0.69 )\n",
            "====================\n",
            "C:\n",
            "( 0.307 ; 0.88 )\n",
            "( 0.342 ; 0.76 )\n",
            "( 0.362 ; 0.707 )\n",
            "====================\n",
            "D:\n",
            "( 0.298 ; 0.856 )\n",
            "( 0.332 ; 0.74 )\n",
            "( 0.352 ; 0.688 )\n",
            "====================\n",
            "\n",
            "Task #2\n",
            "A:\n",
            "Empirical function:\n"
          ]
        },
        {
          "output_type": "display_data",
          "data": {
            "text/plain": [
              "<Figure size 432x288 with 1 Axes>"
            ],
            "image/png": "[encoded data removed]"
          },
          "metadata": {
            "needs_background": "light"
          }
        },
        {
          "output_type": "stream",
          "name": "stdout",
          "text": [
            "\n",
            "Histogram:\n"
          ]
        },
        {
          "output_type": "display_data",
          "data": {
            "text/plain": [
              "<Figure size 432x288 with 1 Axes>"
            ],
            "image/png": "[encoded data removed]"
          },
          "metadata": {
            "needs_background": "light"
          }
        },
        {
          "output_type": "stream",
          "name": "stdout",
          "text": [
            "\n",
            "B:\n",
            "Kolmogorov's criterion graph:\n"
          ]
        },
        {
          "output_type": "display_data",
          "data": {
            "text/plain": [
              "<Figure size 432x288 with 1 Axes>"
            ],
            "image/png": "[encoded data removed]"
          },
          "metadata": {
            "needs_background": "light"
          }
        },
        {
          "output_type": "stream",
          "name": "stdout",
          "text": [
            "Kolmogorov distance :  0.157\n",
            "Point :  0.71\n",
            "The hypothesis is correct!\n"
          ]
        }
      ]
    }
  ]
}